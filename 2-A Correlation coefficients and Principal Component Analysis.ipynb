{
 "cells": [
  {
   "cell_type": "markdown",
   "id": "a7b0ec59",
   "metadata": {},
   "source": [
    "## Importing Libraries"
   ]
  },
  {
   "cell_type": "code",
   "execution_count": 1,
   "id": "5b7b726d",
   "metadata": {},
   "outputs": [],
   "source": [
    "import numpy as np\n",
    "import pandas as pd\n",
    "import random\n",
    "import matplotlib.pyplot as plt\n",
    "import seaborn as sns\n",
    "from mpl_toolkits import mplot3d\n",
    "\n",
    "%matplotlib inline"
   ]
  },
  {
   "cell_type": "markdown",
   "id": "26af4bae",
   "metadata": {},
   "source": [
    "## Dataset handling"
   ]
  },
  {
   "cell_type": "code",
   "execution_count": 2,
   "id": "316ad165",
   "metadata": {},
   "outputs": [
    {
     "data": {
      "text/html": [
       "<div>\n",
       "<style scoped>\n",
       "    .dataframe tbody tr th:only-of-type {\n",
       "        vertical-align: middle;\n",
       "    }\n",
       "\n",
       "    .dataframe tbody tr th {\n",
       "        vertical-align: top;\n",
       "    }\n",
       "\n",
       "    .dataframe thead th {\n",
       "        text-align: right;\n",
       "    }\n",
       "</style>\n",
       "<table border=\"1\" class=\"dataframe\">\n",
       "  <thead>\n",
       "    <tr style=\"text-align: right;\">\n",
       "      <th></th>\n",
       "      <th>T1</th>\n",
       "      <th>RH_1</th>\n",
       "      <th>T2</th>\n",
       "      <th>RH_2</th>\n",
       "      <th>T3</th>\n",
       "      <th>RH_3</th>\n",
       "      <th>T4</th>\n",
       "      <th>RH_4</th>\n",
       "      <th>T5</th>\n",
       "      <th>RH_5</th>\n",
       "      <th>...</th>\n",
       "      <th>RH_9</th>\n",
       "      <th>T_out</th>\n",
       "      <th>Press_mm_hg</th>\n",
       "      <th>RH_out</th>\n",
       "      <th>Windspeed</th>\n",
       "      <th>Visibility</th>\n",
       "      <th>Tdewpoint</th>\n",
       "      <th>rv1</th>\n",
       "      <th>rv2</th>\n",
       "      <th>Appliances</th>\n",
       "    </tr>\n",
       "  </thead>\n",
       "  <tbody>\n",
       "    <tr>\n",
       "      <th>0</th>\n",
       "      <td>21.20</td>\n",
       "      <td>33.290</td>\n",
       "      <td>19.823333</td>\n",
       "      <td>31.790000</td>\n",
       "      <td>23.463333</td>\n",
       "      <td>38.230000</td>\n",
       "      <td>20.50</td>\n",
       "      <td>31.73</td>\n",
       "      <td>19.200000</td>\n",
       "      <td>39.363333</td>\n",
       "      <td>...</td>\n",
       "      <td>29.230000</td>\n",
       "      <td>9.85</td>\n",
       "      <td>756.183333</td>\n",
       "      <td>41.833333</td>\n",
       "      <td>4.833333</td>\n",
       "      <td>40.0</td>\n",
       "      <td>-2.67</td>\n",
       "      <td>42.017180</td>\n",
       "      <td>42.017180</td>\n",
       "      <td>290</td>\n",
       "    </tr>\n",
       "    <tr>\n",
       "      <th>1</th>\n",
       "      <td>21.79</td>\n",
       "      <td>38.500</td>\n",
       "      <td>19.500000</td>\n",
       "      <td>40.633333</td>\n",
       "      <td>22.500000</td>\n",
       "      <td>37.900000</td>\n",
       "      <td>21.00</td>\n",
       "      <td>37.90</td>\n",
       "      <td>20.033333</td>\n",
       "      <td>47.290000</td>\n",
       "      <td>...</td>\n",
       "      <td>40.326667</td>\n",
       "      <td>6.90</td>\n",
       "      <td>754.000000</td>\n",
       "      <td>75.000000</td>\n",
       "      <td>4.000000</td>\n",
       "      <td>40.0</td>\n",
       "      <td>2.80</td>\n",
       "      <td>24.624380</td>\n",
       "      <td>24.624380</td>\n",
       "      <td>50</td>\n",
       "    </tr>\n",
       "    <tr>\n",
       "      <th>2</th>\n",
       "      <td>22.39</td>\n",
       "      <td>41.390</td>\n",
       "      <td>20.200000</td>\n",
       "      <td>43.790000</td>\n",
       "      <td>24.500000</td>\n",
       "      <td>39.333333</td>\n",
       "      <td>20.10</td>\n",
       "      <td>38.26</td>\n",
       "      <td>19.390000</td>\n",
       "      <td>48.090000</td>\n",
       "      <td>...</td>\n",
       "      <td>42.060000</td>\n",
       "      <td>10.10</td>\n",
       "      <td>756.433333</td>\n",
       "      <td>68.000000</td>\n",
       "      <td>5.833333</td>\n",
       "      <td>40.0</td>\n",
       "      <td>4.45</td>\n",
       "      <td>3.731260</td>\n",
       "      <td>3.731260</td>\n",
       "      <td>260</td>\n",
       "    </tr>\n",
       "    <tr>\n",
       "      <th>3</th>\n",
       "      <td>24.00</td>\n",
       "      <td>30.260</td>\n",
       "      <td>24.390000</td>\n",
       "      <td>26.963333</td>\n",
       "      <td>23.390000</td>\n",
       "      <td>33.400000</td>\n",
       "      <td>22.79</td>\n",
       "      <td>31.20</td>\n",
       "      <td>21.033333</td>\n",
       "      <td>40.626667</td>\n",
       "      <td>...</td>\n",
       "      <td>35.500000</td>\n",
       "      <td>19.10</td>\n",
       "      <td>760.000000</td>\n",
       "      <td>31.000000</td>\n",
       "      <td>4.000000</td>\n",
       "      <td>40.0</td>\n",
       "      <td>1.50</td>\n",
       "      <td>1.058826</td>\n",
       "      <td>1.058826</td>\n",
       "      <td>50</td>\n",
       "    </tr>\n",
       "    <tr>\n",
       "      <th>4</th>\n",
       "      <td>20.05</td>\n",
       "      <td>38.245</td>\n",
       "      <td>17.600000</td>\n",
       "      <td>41.000000</td>\n",
       "      <td>21.100000</td>\n",
       "      <td>37.200000</td>\n",
       "      <td>19.89</td>\n",
       "      <td>36.40</td>\n",
       "      <td>18.200000</td>\n",
       "      <td>43.560000</td>\n",
       "      <td>...</td>\n",
       "      <td>38.863333</td>\n",
       "      <td>0.10</td>\n",
       "      <td>754.600000</td>\n",
       "      <td>99.000000</td>\n",
       "      <td>1.000000</td>\n",
       "      <td>32.0</td>\n",
       "      <td>-0.10</td>\n",
       "      <td>39.248108</td>\n",
       "      <td>39.248108</td>\n",
       "      <td>30</td>\n",
       "    </tr>\n",
       "  </tbody>\n",
       "</table>\n",
       "<p>5 rows × 27 columns</p>\n",
       "</div>"
      ],
      "text/plain": [
       "      T1    RH_1         T2       RH_2         T3       RH_3     T4   RH_4  \\\n",
       "0  21.20  33.290  19.823333  31.790000  23.463333  38.230000  20.50  31.73   \n",
       "1  21.79  38.500  19.500000  40.633333  22.500000  37.900000  21.00  37.90   \n",
       "2  22.39  41.390  20.200000  43.790000  24.500000  39.333333  20.10  38.26   \n",
       "3  24.00  30.260  24.390000  26.963333  23.390000  33.400000  22.79  31.20   \n",
       "4  20.05  38.245  17.600000  41.000000  21.100000  37.200000  19.89  36.40   \n",
       "\n",
       "          T5       RH_5  ...       RH_9  T_out  Press_mm_hg     RH_out  \\\n",
       "0  19.200000  39.363333  ...  29.230000   9.85   756.183333  41.833333   \n",
       "1  20.033333  47.290000  ...  40.326667   6.90   754.000000  75.000000   \n",
       "2  19.390000  48.090000  ...  42.060000  10.10   756.433333  68.000000   \n",
       "3  21.033333  40.626667  ...  35.500000  19.10   760.000000  31.000000   \n",
       "4  18.200000  43.560000  ...  38.863333   0.10   754.600000  99.000000   \n",
       "\n",
       "   Windspeed  Visibility  Tdewpoint        rv1        rv2  Appliances  \n",
       "0   4.833333        40.0      -2.67  42.017180  42.017180         290  \n",
       "1   4.000000        40.0       2.80  24.624380  24.624380          50  \n",
       "2   5.833333        40.0       4.45   3.731260   3.731260         260  \n",
       "3   4.000000        40.0       1.50   1.058826   1.058826          50  \n",
       "4   1.000000        32.0      -0.10  39.248108  39.248108          30  \n",
       "\n",
       "[5 rows x 27 columns]"
      ]
     },
     "execution_count": 2,
     "metadata": {},
     "output_type": "execute_result"
    }
   ],
   "source": [
    "df = pd.read_csv(\"FODS-A2.csv\")\n",
    "df.head()"
   ]
  },
  {
   "cell_type": "code",
   "execution_count": 3,
   "id": "e3b565ee",
   "metadata": {},
   "outputs": [],
   "source": [
    "df = df.to_numpy().T"
   ]
  },
  {
   "cell_type": "code",
   "execution_count": 4,
   "id": "e3091342",
   "metadata": {},
   "outputs": [
    {
     "data": {
      "text/plain": [
       "27"
      ]
     },
     "execution_count": 4,
     "metadata": {},
     "output_type": "execute_result"
    }
   ],
   "source": [
    "df.shape[0]"
   ]
  },
  {
   "cell_type": "code",
   "execution_count": 5,
   "id": "c04b3f04",
   "metadata": {},
   "outputs": [],
   "source": [
    "pearsonCoeff = []\n",
    "for i in range(df.shape[0] - 1):\n",
    "    pearsonCoeff.append(np.corrcoef(df[i], df[26])[0][1])"
   ]
  },
  {
   "cell_type": "code",
   "execution_count": 6,
   "id": "83b21125",
   "metadata": {},
   "outputs": [],
   "source": [
    "pearsonCoeff = np.array(pearsonCoeff)"
   ]
  },
  {
   "cell_type": "code",
   "execution_count": 7,
   "id": "09547dc9",
   "metadata": {},
   "outputs": [
    {
     "data": {
      "text/plain": [
       "array([ 4.76741514e-02,  7.67958828e-02,  1.09542373e-01, -6.62231304e-02,\n",
       "        8.08919475e-02,  2.67230679e-02,  3.56405119e-02,  1.35017383e-02,\n",
       "        1.24284828e-02,  1.12097719e-02,  1.15799054e-01, -8.30805830e-02,\n",
       "        2.00044183e-02, -5.92536803e-02,  3.25992026e-02, -9.10402900e-02,\n",
       "        4.50878114e-03, -5.12922023e-02,  9.89081076e-02, -2.97049676e-02,\n",
       "       -1.57888041e-01,  9.00481953e-02, -4.84843332e-03,  9.92493066e-03,\n",
       "        5.82473700e-05,  5.82473700e-05])"
      ]
     },
     "execution_count": 7,
     "metadata": {},
     "output_type": "execute_result"
    }
   ],
   "source": [
    "pearsonCoeff"
   ]
  },
  {
   "cell_type": "markdown",
   "id": "1cda04dc",
   "metadata": {},
   "source": [
    "## Shuffling and splitting data into training and testing subsets"
   ]
  },
  {
   "cell_type": "code",
   "execution_count": null,
   "id": "4333cb89",
   "metadata": {},
   "outputs": [],
   "source": []
  },
  {
   "cell_type": "code",
   "execution_count": null,
   "id": "1708f473",
   "metadata": {},
   "outputs": [],
   "source": [
    "# Shuffling the dataset\n",
    "shuffled_df = df.sample(frac=1, random_state=100)\n",
    "\n",
    "# Define a size for your train set\n",
    "training_data_size = int(0.8 * len(df))\n",
    "\n",
    "# Split your dataset\n",
    "training_data = shuffled_df[:training_data_size]\n",
    "testing_data = shuffled_df[training_data_size:]"
   ]
  },
  {
   "cell_type": "code",
   "execution_count": null,
   "id": "1e4f6af1",
   "metadata": {},
   "outputs": [],
   "source": [
    "X_train = training_data[[\"MLOGP\", \"RDCHI\"]]\n",
    "X_test = testing_data[[\"MLOGP\", \"RDCHI\"]]\n",
    "y_train = training_data[\"quantitative response of LC50\"]\n",
    "y_test = testing_data[\"quantitative response of LC50\"]"
   ]
  },
  {
   "cell_type": "code",
   "execution_count": null,
   "id": "448374fa",
   "metadata": {},
   "outputs": [],
   "source": [
    "X_train = X_train.to_numpy().reshape(X_train.shape[1], X_train.shape[0])\n",
    "X_test = X_test.to_numpy().reshape(X_test.shape[1], X_test.shape[0])\n",
    "y_train = y_train.to_numpy().reshape(1, -1)\n",
    "y_test = y_test.to_numpy().reshape(1, -1)"
   ]
  }
 ],
 "metadata": {
  "kernelspec": {
   "display_name": "Python 3",
   "language": "python",
   "name": "python3"
  },
  "language_info": {
   "codemirror_mode": {
    "name": "ipython",
    "version": 3
   },
   "file_extension": ".py",
   "mimetype": "text/x-python",
   "name": "python",
   "nbconvert_exporter": "python",
   "pygments_lexer": "ipython3",
   "version": "3.8.8"
  }
 },
 "nbformat": 4,
 "nbformat_minor": 5
}
