{
 "cells": [
  {
   "cell_type": "markdown",
   "id": "53fc6d16",
   "metadata": {},
   "source": [
    "# Correlation coefficients and Principal Component Analysis"
   ]
  },
  {
   "cell_type": "markdown",
   "id": "a7b0ec59",
   "metadata": {},
   "source": [
    "## Importing Libraries"
   ]
  },
  {
   "cell_type": "code",
   "execution_count": 1,
   "id": "5b7b726d",
   "metadata": {},
   "outputs": [
    {
     "data": {
      "application/javascript": [
       "\n",
       "            setTimeout(function() {\n",
       "                var nbb_cell_id = 1;\n",
       "                var nbb_unformatted_code = \"import numpy as np\\nimport pandas as pd\\nimport random\\nimport matplotlib.pyplot as plt\\nfrom sklearn.decomposition import PCA\\n\\n%matplotlib inline\\n%load_ext nb_black\";\n",
       "                var nbb_formatted_code = \"import numpy as np\\nimport pandas as pd\\nimport random\\nimport matplotlib.pyplot as plt\\nfrom sklearn.decomposition import PCA\\n\\n%matplotlib inline\\n%load_ext nb_black\";\n",
       "                var nbb_cells = Jupyter.notebook.get_cells();\n",
       "                for (var i = 0; i < nbb_cells.length; ++i) {\n",
       "                    if (nbb_cells[i].input_prompt_number == nbb_cell_id) {\n",
       "                        if (nbb_cells[i].get_text() == nbb_unformatted_code) {\n",
       "                             nbb_cells[i].set_text(nbb_formatted_code);\n",
       "                        }\n",
       "                        break;\n",
       "                    }\n",
       "                }\n",
       "            }, 500);\n",
       "            "
      ],
      "text/plain": [
       "<IPython.core.display.Javascript object>"
      ]
     },
     "metadata": {},
     "output_type": "display_data"
    }
   ],
   "source": [
    "import numpy as np\n",
    "import pandas as pd\n",
    "import random\n",
    "import matplotlib.pyplot as plt\n",
    "from sklearn.decomposition import PCA\n",
    "\n",
    "%matplotlib inline\n",
    "%load_ext nb_black"
   ]
  },
  {
   "cell_type": "markdown",
   "id": "26af4bae",
   "metadata": {},
   "source": [
    "## Dataset handling"
   ]
  },
  {
   "cell_type": "code",
   "execution_count": 2,
   "id": "316ad165",
   "metadata": {},
   "outputs": [
    {
     "ename": "FileNotFoundError",
     "evalue": "[Errno 2] No such file or directory: '../data/FODS-A2.csv'",
     "output_type": "error",
     "traceback": [
      "\u001b[1;31m---------------------------------------------------------------------------\u001b[0m",
      "\u001b[1;31mFileNotFoundError\u001b[0m                         Traceback (most recent call last)",
      "Input \u001b[1;32mIn [2]\u001b[0m, in \u001b[0;36m<cell line: 1>\u001b[1;34m()\u001b[0m\n\u001b[1;32m----> 1\u001b[0m df \u001b[38;5;241m=\u001b[39m \u001b[43mpd\u001b[49m\u001b[38;5;241;43m.\u001b[39;49m\u001b[43mread_csv\u001b[49m\u001b[43m(\u001b[49m\u001b[38;5;124;43m\"\u001b[39;49m\u001b[38;5;124;43m../data/FODS-A2.csv\u001b[39;49m\u001b[38;5;124;43m\"\u001b[39;49m\u001b[43m)\u001b[49m\n\u001b[0;32m      2\u001b[0m df\u001b[38;5;241m.\u001b[39mhead()\n",
      "File \u001b[1;32m~\\anaconda3\\envs\\python-datascience\\lib\\site-packages\\pandas\\util\\_decorators.py:311\u001b[0m, in \u001b[0;36mdeprecate_nonkeyword_arguments.<locals>.decorate.<locals>.wrapper\u001b[1;34m(*args, **kwargs)\u001b[0m\n\u001b[0;32m    305\u001b[0m \u001b[38;5;28;01mif\u001b[39;00m \u001b[38;5;28mlen\u001b[39m(args) \u001b[38;5;241m>\u001b[39m num_allow_args:\n\u001b[0;32m    306\u001b[0m     warnings\u001b[38;5;241m.\u001b[39mwarn(\n\u001b[0;32m    307\u001b[0m         msg\u001b[38;5;241m.\u001b[39mformat(arguments\u001b[38;5;241m=\u001b[39marguments),\n\u001b[0;32m    308\u001b[0m         \u001b[38;5;167;01mFutureWarning\u001b[39;00m,\n\u001b[0;32m    309\u001b[0m         stacklevel\u001b[38;5;241m=\u001b[39mstacklevel,\n\u001b[0;32m    310\u001b[0m     )\n\u001b[1;32m--> 311\u001b[0m \u001b[38;5;28;01mreturn\u001b[39;00m \u001b[43mfunc\u001b[49m\u001b[43m(\u001b[49m\u001b[38;5;241;43m*\u001b[39;49m\u001b[43margs\u001b[49m\u001b[43m,\u001b[49m\u001b[43m \u001b[49m\u001b[38;5;241;43m*\u001b[39;49m\u001b[38;5;241;43m*\u001b[39;49m\u001b[43mkwargs\u001b[49m\u001b[43m)\u001b[49m\n",
      "File \u001b[1;32m~\\anaconda3\\envs\\python-datascience\\lib\\site-packages\\pandas\\io\\parsers\\readers.py:680\u001b[0m, in \u001b[0;36mread_csv\u001b[1;34m(filepath_or_buffer, sep, delimiter, header, names, index_col, usecols, squeeze, prefix, mangle_dupe_cols, dtype, engine, converters, true_values, false_values, skipinitialspace, skiprows, skipfooter, nrows, na_values, keep_default_na, na_filter, verbose, skip_blank_lines, parse_dates, infer_datetime_format, keep_date_col, date_parser, dayfirst, cache_dates, iterator, chunksize, compression, thousands, decimal, lineterminator, quotechar, quoting, doublequote, escapechar, comment, encoding, encoding_errors, dialect, error_bad_lines, warn_bad_lines, on_bad_lines, delim_whitespace, low_memory, memory_map, float_precision, storage_options)\u001b[0m\n\u001b[0;32m    665\u001b[0m kwds_defaults \u001b[38;5;241m=\u001b[39m _refine_defaults_read(\n\u001b[0;32m    666\u001b[0m     dialect,\n\u001b[0;32m    667\u001b[0m     delimiter,\n\u001b[1;32m   (...)\u001b[0m\n\u001b[0;32m    676\u001b[0m     defaults\u001b[38;5;241m=\u001b[39m{\u001b[38;5;124m\"\u001b[39m\u001b[38;5;124mdelimiter\u001b[39m\u001b[38;5;124m\"\u001b[39m: \u001b[38;5;124m\"\u001b[39m\u001b[38;5;124m,\u001b[39m\u001b[38;5;124m\"\u001b[39m},\n\u001b[0;32m    677\u001b[0m )\n\u001b[0;32m    678\u001b[0m kwds\u001b[38;5;241m.\u001b[39mupdate(kwds_defaults)\n\u001b[1;32m--> 680\u001b[0m \u001b[38;5;28;01mreturn\u001b[39;00m \u001b[43m_read\u001b[49m\u001b[43m(\u001b[49m\u001b[43mfilepath_or_buffer\u001b[49m\u001b[43m,\u001b[49m\u001b[43m \u001b[49m\u001b[43mkwds\u001b[49m\u001b[43m)\u001b[49m\n",
      "File \u001b[1;32m~\\anaconda3\\envs\\python-datascience\\lib\\site-packages\\pandas\\io\\parsers\\readers.py:575\u001b[0m, in \u001b[0;36m_read\u001b[1;34m(filepath_or_buffer, kwds)\u001b[0m\n\u001b[0;32m    572\u001b[0m _validate_names(kwds\u001b[38;5;241m.\u001b[39mget(\u001b[38;5;124m\"\u001b[39m\u001b[38;5;124mnames\u001b[39m\u001b[38;5;124m\"\u001b[39m, \u001b[38;5;28;01mNone\u001b[39;00m))\n\u001b[0;32m    574\u001b[0m \u001b[38;5;66;03m# Create the parser.\u001b[39;00m\n\u001b[1;32m--> 575\u001b[0m parser \u001b[38;5;241m=\u001b[39m \u001b[43mTextFileReader\u001b[49m\u001b[43m(\u001b[49m\u001b[43mfilepath_or_buffer\u001b[49m\u001b[43m,\u001b[49m\u001b[43m \u001b[49m\u001b[38;5;241;43m*\u001b[39;49m\u001b[38;5;241;43m*\u001b[39;49m\u001b[43mkwds\u001b[49m\u001b[43m)\u001b[49m\n\u001b[0;32m    577\u001b[0m \u001b[38;5;28;01mif\u001b[39;00m chunksize \u001b[38;5;129;01mor\u001b[39;00m iterator:\n\u001b[0;32m    578\u001b[0m     \u001b[38;5;28;01mreturn\u001b[39;00m parser\n",
      "File \u001b[1;32m~\\anaconda3\\envs\\python-datascience\\lib\\site-packages\\pandas\\io\\parsers\\readers.py:933\u001b[0m, in \u001b[0;36mTextFileReader.__init__\u001b[1;34m(self, f, engine, **kwds)\u001b[0m\n\u001b[0;32m    930\u001b[0m     \u001b[38;5;28mself\u001b[39m\u001b[38;5;241m.\u001b[39moptions[\u001b[38;5;124m\"\u001b[39m\u001b[38;5;124mhas_index_names\u001b[39m\u001b[38;5;124m\"\u001b[39m] \u001b[38;5;241m=\u001b[39m kwds[\u001b[38;5;124m\"\u001b[39m\u001b[38;5;124mhas_index_names\u001b[39m\u001b[38;5;124m\"\u001b[39m]\n\u001b[0;32m    932\u001b[0m \u001b[38;5;28mself\u001b[39m\u001b[38;5;241m.\u001b[39mhandles: IOHandles \u001b[38;5;241m|\u001b[39m \u001b[38;5;28;01mNone\u001b[39;00m \u001b[38;5;241m=\u001b[39m \u001b[38;5;28;01mNone\u001b[39;00m\n\u001b[1;32m--> 933\u001b[0m \u001b[38;5;28mself\u001b[39m\u001b[38;5;241m.\u001b[39m_engine \u001b[38;5;241m=\u001b[39m \u001b[38;5;28;43mself\u001b[39;49m\u001b[38;5;241;43m.\u001b[39;49m\u001b[43m_make_engine\u001b[49m\u001b[43m(\u001b[49m\u001b[43mf\u001b[49m\u001b[43m,\u001b[49m\u001b[43m \u001b[49m\u001b[38;5;28;43mself\u001b[39;49m\u001b[38;5;241;43m.\u001b[39;49m\u001b[43mengine\u001b[49m\u001b[43m)\u001b[49m\n",
      "File \u001b[1;32m~\\anaconda3\\envs\\python-datascience\\lib\\site-packages\\pandas\\io\\parsers\\readers.py:1217\u001b[0m, in \u001b[0;36mTextFileReader._make_engine\u001b[1;34m(self, f, engine)\u001b[0m\n\u001b[0;32m   1213\u001b[0m     mode \u001b[38;5;241m=\u001b[39m \u001b[38;5;124m\"\u001b[39m\u001b[38;5;124mrb\u001b[39m\u001b[38;5;124m\"\u001b[39m\n\u001b[0;32m   1214\u001b[0m \u001b[38;5;66;03m# error: No overload variant of \"get_handle\" matches argument types\u001b[39;00m\n\u001b[0;32m   1215\u001b[0m \u001b[38;5;66;03m# \"Union[str, PathLike[str], ReadCsvBuffer[bytes], ReadCsvBuffer[str]]\"\u001b[39;00m\n\u001b[0;32m   1216\u001b[0m \u001b[38;5;66;03m# , \"str\", \"bool\", \"Any\", \"Any\", \"Any\", \"Any\", \"Any\"\u001b[39;00m\n\u001b[1;32m-> 1217\u001b[0m \u001b[38;5;28mself\u001b[39m\u001b[38;5;241m.\u001b[39mhandles \u001b[38;5;241m=\u001b[39m \u001b[43mget_handle\u001b[49m\u001b[43m(\u001b[49m\u001b[43m  \u001b[49m\u001b[38;5;66;43;03m# type: ignore[call-overload]\u001b[39;49;00m\n\u001b[0;32m   1218\u001b[0m \u001b[43m    \u001b[49m\u001b[43mf\u001b[49m\u001b[43m,\u001b[49m\n\u001b[0;32m   1219\u001b[0m \u001b[43m    \u001b[49m\u001b[43mmode\u001b[49m\u001b[43m,\u001b[49m\n\u001b[0;32m   1220\u001b[0m \u001b[43m    \u001b[49m\u001b[43mencoding\u001b[49m\u001b[38;5;241;43m=\u001b[39;49m\u001b[38;5;28;43mself\u001b[39;49m\u001b[38;5;241;43m.\u001b[39;49m\u001b[43moptions\u001b[49m\u001b[38;5;241;43m.\u001b[39;49m\u001b[43mget\u001b[49m\u001b[43m(\u001b[49m\u001b[38;5;124;43m\"\u001b[39;49m\u001b[38;5;124;43mencoding\u001b[39;49m\u001b[38;5;124;43m\"\u001b[39;49m\u001b[43m,\u001b[49m\u001b[43m \u001b[49m\u001b[38;5;28;43;01mNone\u001b[39;49;00m\u001b[43m)\u001b[49m\u001b[43m,\u001b[49m\n\u001b[0;32m   1221\u001b[0m \u001b[43m    \u001b[49m\u001b[43mcompression\u001b[49m\u001b[38;5;241;43m=\u001b[39;49m\u001b[38;5;28;43mself\u001b[39;49m\u001b[38;5;241;43m.\u001b[39;49m\u001b[43moptions\u001b[49m\u001b[38;5;241;43m.\u001b[39;49m\u001b[43mget\u001b[49m\u001b[43m(\u001b[49m\u001b[38;5;124;43m\"\u001b[39;49m\u001b[38;5;124;43mcompression\u001b[39;49m\u001b[38;5;124;43m\"\u001b[39;49m\u001b[43m,\u001b[49m\u001b[43m \u001b[49m\u001b[38;5;28;43;01mNone\u001b[39;49;00m\u001b[43m)\u001b[49m\u001b[43m,\u001b[49m\n\u001b[0;32m   1222\u001b[0m \u001b[43m    \u001b[49m\u001b[43mmemory_map\u001b[49m\u001b[38;5;241;43m=\u001b[39;49m\u001b[38;5;28;43mself\u001b[39;49m\u001b[38;5;241;43m.\u001b[39;49m\u001b[43moptions\u001b[49m\u001b[38;5;241;43m.\u001b[39;49m\u001b[43mget\u001b[49m\u001b[43m(\u001b[49m\u001b[38;5;124;43m\"\u001b[39;49m\u001b[38;5;124;43mmemory_map\u001b[39;49m\u001b[38;5;124;43m\"\u001b[39;49m\u001b[43m,\u001b[49m\u001b[43m \u001b[49m\u001b[38;5;28;43;01mFalse\u001b[39;49;00m\u001b[43m)\u001b[49m\u001b[43m,\u001b[49m\n\u001b[0;32m   1223\u001b[0m \u001b[43m    \u001b[49m\u001b[43mis_text\u001b[49m\u001b[38;5;241;43m=\u001b[39;49m\u001b[43mis_text\u001b[49m\u001b[43m,\u001b[49m\n\u001b[0;32m   1224\u001b[0m \u001b[43m    \u001b[49m\u001b[43merrors\u001b[49m\u001b[38;5;241;43m=\u001b[39;49m\u001b[38;5;28;43mself\u001b[39;49m\u001b[38;5;241;43m.\u001b[39;49m\u001b[43moptions\u001b[49m\u001b[38;5;241;43m.\u001b[39;49m\u001b[43mget\u001b[49m\u001b[43m(\u001b[49m\u001b[38;5;124;43m\"\u001b[39;49m\u001b[38;5;124;43mencoding_errors\u001b[39;49m\u001b[38;5;124;43m\"\u001b[39;49m\u001b[43m,\u001b[49m\u001b[43m \u001b[49m\u001b[38;5;124;43m\"\u001b[39;49m\u001b[38;5;124;43mstrict\u001b[39;49m\u001b[38;5;124;43m\"\u001b[39;49m\u001b[43m)\u001b[49m\u001b[43m,\u001b[49m\n\u001b[0;32m   1225\u001b[0m \u001b[43m    \u001b[49m\u001b[43mstorage_options\u001b[49m\u001b[38;5;241;43m=\u001b[39;49m\u001b[38;5;28;43mself\u001b[39;49m\u001b[38;5;241;43m.\u001b[39;49m\u001b[43moptions\u001b[49m\u001b[38;5;241;43m.\u001b[39;49m\u001b[43mget\u001b[49m\u001b[43m(\u001b[49m\u001b[38;5;124;43m\"\u001b[39;49m\u001b[38;5;124;43mstorage_options\u001b[39;49m\u001b[38;5;124;43m\"\u001b[39;49m\u001b[43m,\u001b[49m\u001b[43m \u001b[49m\u001b[38;5;28;43;01mNone\u001b[39;49;00m\u001b[43m)\u001b[49m\u001b[43m,\u001b[49m\n\u001b[0;32m   1226\u001b[0m \u001b[43m\u001b[49m\u001b[43m)\u001b[49m\n\u001b[0;32m   1227\u001b[0m \u001b[38;5;28;01massert\u001b[39;00m \u001b[38;5;28mself\u001b[39m\u001b[38;5;241m.\u001b[39mhandles \u001b[38;5;129;01mis\u001b[39;00m \u001b[38;5;129;01mnot\u001b[39;00m \u001b[38;5;28;01mNone\u001b[39;00m\n\u001b[0;32m   1228\u001b[0m f \u001b[38;5;241m=\u001b[39m \u001b[38;5;28mself\u001b[39m\u001b[38;5;241m.\u001b[39mhandles\u001b[38;5;241m.\u001b[39mhandle\n",
      "File \u001b[1;32m~\\anaconda3\\envs\\python-datascience\\lib\\site-packages\\pandas\\io\\common.py:789\u001b[0m, in \u001b[0;36mget_handle\u001b[1;34m(path_or_buf, mode, encoding, compression, memory_map, is_text, errors, storage_options)\u001b[0m\n\u001b[0;32m    784\u001b[0m \u001b[38;5;28;01melif\u001b[39;00m \u001b[38;5;28misinstance\u001b[39m(handle, \u001b[38;5;28mstr\u001b[39m):\n\u001b[0;32m    785\u001b[0m     \u001b[38;5;66;03m# Check whether the filename is to be opened in binary mode.\u001b[39;00m\n\u001b[0;32m    786\u001b[0m     \u001b[38;5;66;03m# Binary mode does not support 'encoding' and 'newline'.\u001b[39;00m\n\u001b[0;32m    787\u001b[0m     \u001b[38;5;28;01mif\u001b[39;00m ioargs\u001b[38;5;241m.\u001b[39mencoding \u001b[38;5;129;01mand\u001b[39;00m \u001b[38;5;124m\"\u001b[39m\u001b[38;5;124mb\u001b[39m\u001b[38;5;124m\"\u001b[39m \u001b[38;5;129;01mnot\u001b[39;00m \u001b[38;5;129;01min\u001b[39;00m ioargs\u001b[38;5;241m.\u001b[39mmode:\n\u001b[0;32m    788\u001b[0m         \u001b[38;5;66;03m# Encoding\u001b[39;00m\n\u001b[1;32m--> 789\u001b[0m         handle \u001b[38;5;241m=\u001b[39m \u001b[38;5;28;43mopen\u001b[39;49m\u001b[43m(\u001b[49m\n\u001b[0;32m    790\u001b[0m \u001b[43m            \u001b[49m\u001b[43mhandle\u001b[49m\u001b[43m,\u001b[49m\n\u001b[0;32m    791\u001b[0m \u001b[43m            \u001b[49m\u001b[43mioargs\u001b[49m\u001b[38;5;241;43m.\u001b[39;49m\u001b[43mmode\u001b[49m\u001b[43m,\u001b[49m\n\u001b[0;32m    792\u001b[0m \u001b[43m            \u001b[49m\u001b[43mencoding\u001b[49m\u001b[38;5;241;43m=\u001b[39;49m\u001b[43mioargs\u001b[49m\u001b[38;5;241;43m.\u001b[39;49m\u001b[43mencoding\u001b[49m\u001b[43m,\u001b[49m\n\u001b[0;32m    793\u001b[0m \u001b[43m            \u001b[49m\u001b[43merrors\u001b[49m\u001b[38;5;241;43m=\u001b[39;49m\u001b[43merrors\u001b[49m\u001b[43m,\u001b[49m\n\u001b[0;32m    794\u001b[0m \u001b[43m            \u001b[49m\u001b[43mnewline\u001b[49m\u001b[38;5;241;43m=\u001b[39;49m\u001b[38;5;124;43m\"\u001b[39;49m\u001b[38;5;124;43m\"\u001b[39;49m\u001b[43m,\u001b[49m\n\u001b[0;32m    795\u001b[0m \u001b[43m        \u001b[49m\u001b[43m)\u001b[49m\n\u001b[0;32m    796\u001b[0m     \u001b[38;5;28;01melse\u001b[39;00m:\n\u001b[0;32m    797\u001b[0m         \u001b[38;5;66;03m# Binary mode\u001b[39;00m\n\u001b[0;32m    798\u001b[0m         handle \u001b[38;5;241m=\u001b[39m \u001b[38;5;28mopen\u001b[39m(handle, ioargs\u001b[38;5;241m.\u001b[39mmode)\n",
      "\u001b[1;31mFileNotFoundError\u001b[0m: [Errno 2] No such file or directory: '../data/FODS-A2.csv'"
     ]
    },
    {
     "data": {
      "application/javascript": [
       "\n",
       "            setTimeout(function() {\n",
       "                var nbb_cell_id = 2;\n",
       "                var nbb_unformatted_code = \"df = pd.read_csv(\\\"../data/FODS-A2.csv\\\")\\ndf.head()\";\n",
       "                var nbb_formatted_code = \"df = pd.read_csv(\\\"../data/FODS-A2.csv\\\")\\ndf.head()\";\n",
       "                var nbb_cells = Jupyter.notebook.get_cells();\n",
       "                for (var i = 0; i < nbb_cells.length; ++i) {\n",
       "                    if (nbb_cells[i].input_prompt_number == nbb_cell_id) {\n",
       "                        if (nbb_cells[i].get_text() == nbb_unformatted_code) {\n",
       "                             nbb_cells[i].set_text(nbb_formatted_code);\n",
       "                        }\n",
       "                        break;\n",
       "                    }\n",
       "                }\n",
       "            }, 500);\n",
       "            "
      ],
      "text/plain": [
       "<IPython.core.display.Javascript object>"
      ]
     },
     "metadata": {},
     "output_type": "display_data"
    }
   ],
   "source": [
    "df = pd.read_csv(\"../data/FODS-A2.csv\")\n",
    "df.head()"
   ]
  },
  {
   "cell_type": "markdown",
   "id": "6d8951c4",
   "metadata": {},
   "source": [
    "## Feature Selection using Pearson Coefficient"
   ]
  },
  {
   "cell_type": "code",
   "execution_count": null,
   "id": "e3b565ee",
   "metadata": {},
   "outputs": [],
   "source": [
    "y  = df['Appliances'].to_numpy().T\n",
    "df1 = df.drop('Appliances', axis = 1).to_numpy().T"
   ]
  },
  {
   "cell_type": "code",
   "execution_count": null,
   "id": "e3091342",
   "metadata": {},
   "outputs": [],
   "source": [
    "df1.shape[0]"
   ]
  },
  {
   "cell_type": "code",
   "execution_count": null,
   "id": "c04b3f04",
   "metadata": {},
   "outputs": [],
   "source": [
    "pearsonCoeff = []\n",
    "for i in range(df1.shape[0]):\n",
    "    pearsonCoeff.append(abs(np.corrcoef(df1[i], y)[0][1]))"
   ]
  },
  {
   "cell_type": "code",
   "execution_count": null,
   "id": "83b21125",
   "metadata": {},
   "outputs": [],
   "source": [
    "pearsonCoeff = pd.DataFrame(pearsonCoeff, columns = ['Absolute Pearson Correlation Coeff'])\n",
    "pearsonCoeff['Feature'] = df.drop('Appliances', axis = 1).columns"
   ]
  },
  {
   "cell_type": "code",
   "execution_count": null,
   "id": "09547dc9",
   "metadata": {},
   "outputs": [],
   "source": [
    "pearsonCoeff = pearsonCoeff.sort_values(\"Absolute Pearson Correlation Coeff\", ascending=False)"
   ]
  },
  {
   "cell_type": "code",
   "execution_count": null,
   "id": "39b7a0ef",
   "metadata": {},
   "outputs": [],
   "source": [
    "pearsonCoeff"
   ]
  },
  {
   "cell_type": "code",
   "execution_count": null,
   "id": "0221d61f",
   "metadata": {},
   "outputs": [],
   "source": [
    "set1 = []\n",
    "for i in range(df1.shape[0]):\n",
    "    s = []\n",
    "    for j in range(i+1):\n",
    "        s.append(pearsonCoeff.iloc[j].Feature)\n",
    "    set1.append(np.array(s))"
   ]
  },
  {
   "cell_type": "code",
   "execution_count": null,
   "id": "0eae465c",
   "metadata": {},
   "outputs": [],
   "source": [
    "print(len(set1))\n",
    "set1 = np.array(set1)"
   ]
  },
  {
   "cell_type": "markdown",
   "id": "a15d7b7d",
   "metadata": {},
   "source": [
    "## Feature Selection using PCA"
   ]
  },
  {
   "cell_type": "code",
   "execution_count": null,
   "id": "0501abfb",
   "metadata": {},
   "outputs": [],
   "source": [
    "def pcatransform(x, dim):\n",
    "    y  = x['Appliances']\n",
    "    x = x.drop('Appliances', axis = 1)\n",
    "    pca = PCA(n_components = dim)\n",
    "    x_pca = pca.fit_transform(x)\n",
    "    x_pca = pd.DataFrame(x_pca, columns = pca.get_feature_names_out())\n",
    "    x_pca['Appliances'] = y\n",
    "    variance = pca.explained_variance_ratio_.cumsum()[-1]\n",
    "    variance *= 100\n",
    "    return x_pca, variance"
   ]
  },
  {
   "cell_type": "markdown",
   "id": "2b3df191",
   "metadata": {},
   "source": [
    "## Functions for regression"
   ]
  },
  {
   "cell_type": "code",
   "execution_count": null,
   "id": "be23c0af",
   "metadata": {},
   "outputs": [],
   "source": [
    "def split(df):\n",
    "    # Shuffling the dataset\n",
    "    shuffled_df = df.sample(frac=1, random_state=100)\n",
    "\n",
    "    # Define a size for your train set\n",
    "    training_data_size = int(0.8 * len(df))\n",
    "\n",
    "    # Split your dataset\n",
    "    training_data = shuffled_df[:training_data_size]\n",
    "    testing_data = shuffled_df[training_data_size:]\n",
    "    \n",
    "    X_train = training_data.drop(['Appliances'], axis=1)\n",
    "    X_test = testing_data.drop(['Appliances'], axis=1)\n",
    "    y_train = training_data[\"Appliances\"].to_numpy().T\n",
    "    y_test = testing_data[\"Appliances\"].to_numpy().T\n",
    "    \n",
    "    return X_train, X_test, y_train, y_test"
   ]
  },
  {
   "cell_type": "raw",
   "id": "05a1b3eb",
   "metadata": {},
   "source": [
    "X_train = X_train.to_numpy().reshape(X_train.shape[1], X_train.shape[0])\n",
    "X_test = X_test.to_numpy().reshape(X_test.shape[1], X_test.shape[0])\n",
    "y_train = y_train.to_numpy().reshape(1, -1)\n",
    "y_test = y_test.to_numpy().reshape(1, -1)"
   ]
  },
  {
   "cell_type": "code",
   "execution_count": null,
   "id": "d575577d",
   "metadata": {},
   "outputs": [],
   "source": [
    "def batchnorm(X_train, X_test):\n",
    "    mean = X_train.mean()\n",
    "    stddev = X_train.std()\n",
    "    X_train = (X_train - mean) / stddev\n",
    "    X_test = (X_test - mean) / stddev\n",
    "    X_train.to_numpy()\n",
    "    X_test.to_numpy()\n",
    "    return X_train, X_test"
   ]
  },
  {
   "cell_type": "code",
   "execution_count": null,
   "id": "3d0bdc5b",
   "metadata": {},
   "outputs": [],
   "source": [
    "def initialize(dim):\n",
    "    np.random.seed(42)\n",
    "    b = random.random()\n",
    "    theta = np.random.rand(1, dim) * 0.01\n",
    "    return b, theta"
   ]
  },
  {
   "cell_type": "code",
   "execution_count": null,
   "id": "7ce624ed",
   "metadata": {},
   "outputs": [],
   "source": [
    "def gradient_descent(num_epochs, X, t, theta, bias, lr):\n",
    "    # forward-prop\n",
    "    costs = []\n",
    "    for iter in range(num_epochs):\n",
    "        y = np.dot(theta, X.T) + bias\n",
    "\n",
    "        loss = get_cost(y, t)\n",
    "        # print(loss)\n",
    "        costs.append(loss)\n",
    "\n",
    "        # backprop\n",
    "        der = (1 / y.shape[1]) * np.dot(y - t, X)\n",
    "        dBias = (1 / y.shape[1]) * np.sum((y - t))\n",
    "\n",
    "        # updation\n",
    "        theta = theta - lr * der\n",
    "        bias = bias - lr * dBias\n",
    "\n",
    "    return costs,theta,bias"
   ]
  },
  {
   "cell_type": "code",
   "execution_count": null,
   "id": "039e25a6",
   "metadata": {},
   "outputs": [],
   "source": [
    "def get_cost(y, t):\n",
    "    return 0.5 * np.sum(np.power((t - y), 2)) / y.shape[1]"
   ]
  },
  {
   "cell_type": "code",
   "execution_count": null,
   "id": "482cb6a5",
   "metadata": {},
   "outputs": [],
   "source": [
    "def fwd_prop_test(X, y_test, theta, bias):\n",
    "    y = np.dot(theta, X.T) + bias\n",
    "    loss = get_cost(y, y_test)\n",
    "    return loss"
   ]
  },
  {
   "cell_type": "code",
   "execution_count": null,
   "id": "4d677190",
   "metadata": {},
   "outputs": [],
   "source": [
    "def batch_gd_pearson(dim, num_epochs, learning_rate):\n",
    "    data = df[np.append(set1[dim-1], 'Appliances')]\n",
    "    X_train, X_test, y_train, y_test = split(data)\n",
    "    X_train, X_test = batchnorm(X_train, X_test)\n",
    "    bias, weights = initialize(dim)\n",
    "    BGD_MSE_train,weights,bias = gradient_descent(\n",
    "        num_epochs, X_train, y_train, weights, bias, learning_rate\n",
    "    )\n",
    "    plt.plot(BGD_MSE_train)\n",
    "    plt.xlabel(\"Epochs\")\n",
    "    plt.ylabel(\"MSE\")\n",
    "    plt.title(\"LOSS CURVE\")\n",
    "    plt.show()\n",
    "    #plt.savefig('Training error for BGD degree {}.png'.format(degree))\n",
    "    BGD_mse_test = fwd_prop_test(X_test, y_test, weights, bias)\n",
    "    return BGD_mse_test, BGD_MSE_train[-1], bias, weights"
   ]
  },
  {
   "cell_type": "code",
   "execution_count": null,
   "id": "d78fe8ec",
   "metadata": {},
   "outputs": [],
   "source": [
    "def batch_gd_pca(dim, num_epochs, learning_rate):\n",
    "    data_pca, variance = pcatransform(df, dim)\n",
    "    X_train, X_test, y_train, y_test = split(data_pca)\n",
    "    X_train, X_test = batchnorm(X_train, X_test)\n",
    "    bias, weights = initialize(dim)\n",
    "    BGD_MSE_train,weights,bias = gradient_descent(\n",
    "        num_epochs, X_train, y_train, weights, bias, learning_rate\n",
    "    )\n",
    "    plt.plot(BGD_MSE_train)\n",
    "    plt.xlabel(\"Epochs\")\n",
    "    plt.ylabel(\"MSE\")\n",
    "    plt.title(\"LOSS CURVE\")\n",
    "    plt.show()\n",
    "    #plt.savefig('Training error for BGD degree {}.png'.format(degree))\n",
    "    BGD_mse_test = fwd_prop_test(X_test, y_test, weights, bias)\n",
    "    return BGD_mse_test, BGD_MSE_train[-1], bias, weights, variance"
   ]
  },
  {
   "cell_type": "markdown",
   "id": "86f38a53",
   "metadata": {},
   "source": [
    "## Regression after Pearson Coefficient Feature Selection"
   ]
  },
  {
   "cell_type": "code",
   "execution_count": null,
   "id": "e104597b",
   "metadata": {},
   "outputs": [],
   "source": [
    "test_mse_arr1 = []\n",
    "train_mse_arr1 = []\n",
    "bias_arr1 = []\n",
    "weights_arr1 = []"
   ]
  },
  {
   "cell_type": "code",
   "execution_count": null,
   "id": "ba27e180",
   "metadata": {},
   "outputs": [],
   "source": [
    "for i in range(26):\n",
    "    test_mse, train_mse, bias, weights = batch_gd_pearson(i+1, 700, 0.01)\n",
    "    train_mse_arr1.append(train_mse)\n",
    "    test_mse_arr1.append(test_mse)\n",
    "    weights_arr1.append(weights)\n",
    "    bias_arr1.append(bias)"
   ]
  },
  {
   "cell_type": "code",
   "execution_count": null,
   "id": "8cfbe134",
   "metadata": {},
   "outputs": [],
   "source": [
    "train_mse_arr1 = pd.DataFrame(train_mse_arr1, columns = ['Train MSE'])\n",
    "train_mse_arr1.index +=1\n",
    "plt.plot(train_mse_arr1)\n",
    "plt.xlabel(\"No. of Features\") \n",
    "plt.ylabel(\"Train Error\") \n",
    "plt.title(\"Training Error after Pearson Coefficient Feature Selection\") \n",
    "plt.savefig('../results/1train.jpg')\n",
    "plt.show()"
   ]
  },
  {
   "cell_type": "code",
   "execution_count": null,
   "id": "83acdd3a",
   "metadata": {},
   "outputs": [],
   "source": [
    "test_mse_arr1 = pd.DataFrame(test_mse_arr1, columns = ['Test MSE'])\n",
    "test_mse_arr1.index +=1\n",
    "plt.plot(test_mse_arr1)\n",
    "plt.xlabel(\"No. of Features\") \n",
    "plt.ylabel(\"Test Error\") \n",
    "plt.title(\"Testing Error after Pearson Coefficient Feature Selection\") \n",
    "plt.savefig('../results/1test.jpg')\n",
    "plt.show()"
   ]
  },
  {
   "cell_type": "code",
   "execution_count": null,
   "id": "6cc3e5c3",
   "metadata": {},
   "outputs": [],
   "source": [
    "print(\"no. of features for minimum test error =\", test_mse_arr1.idxmin()[0])\n",
    "print(\"no. of features for minimum train error =\", train_mse_arr1.idxmin()[0])"
   ]
  },
  {
   "cell_type": "code",
   "execution_count": null,
   "id": "df80f132",
   "metadata": {},
   "outputs": [],
   "source": [
    "table1 = pd.concat([train_mse_arr1, test_mse_arr1], axis=1, join='inner')\n",
    "table1.to_excel('../results/Results_PCC.xlsx')"
   ]
  },
  {
   "cell_type": "markdown",
   "id": "2e2f32e4",
   "metadata": {},
   "source": [
    "## Regression after PCA"
   ]
  },
  {
   "cell_type": "code",
   "execution_count": null,
   "id": "0d7fcb22",
   "metadata": {},
   "outputs": [],
   "source": [
    "test_mse_arr2 = []\n",
    "train_mse_arr2 = []\n",
    "bias_arr2 = []\n",
    "weights_arr2 = []\n",
    "var = []"
   ]
  },
  {
   "cell_type": "code",
   "execution_count": null,
   "id": "2da26af0",
   "metadata": {},
   "outputs": [],
   "source": [
    "for i in range(26):\n",
    "    test_mse, train_mse, bias, weights, variance = batch_gd_pca(i+1, 700, 0.01)\n",
    "    train_mse_arr2.append(train_mse)\n",
    "    test_mse_arr2.append(test_mse)\n",
    "    weights_arr2.append(weights)\n",
    "    bias_arr2.append(bias)\n",
    "    var.append(variance)"
   ]
  },
  {
   "cell_type": "code",
   "execution_count": null,
   "id": "6d8c0c7b",
   "metadata": {},
   "outputs": [],
   "source": [
    "train_mse_arr2 = pd.DataFrame(train_mse_arr2, columns = ['Train MSE'])\n",
    "train_mse_arr2.index +=1\n",
    "plt.plot(train_mse_arr2)\n",
    "plt.xlabel(\"No. of Features\") \n",
    "plt.ylabel(\"Train Error\") \n",
    "plt.title(\"Regression Model Train Errors after PCA\") \n",
    "plt.savefig('../results/2train.jpg')\n",
    "plt.show()"
   ]
  },
  {
   "cell_type": "code",
   "execution_count": null,
   "id": "57ca9035",
   "metadata": {},
   "outputs": [],
   "source": [
    "test_mse_arr2 = pd.DataFrame(test_mse_arr2, columns = ['Test MSE'])\n",
    "test_mse_arr2.index +=1\n",
    "plt.plot(test_mse_arr2)\n",
    "plt.xlabel(\"No. of Features\") \n",
    "plt.ylabel(\"Test Error\") \n",
    "plt.title(\"Regression Model Test Errors after PCA\") \n",
    "plt.savefig('../results/2test.jpg')\n",
    "plt.show()"
   ]
  },
  {
   "cell_type": "code",
   "execution_count": null,
   "id": "e94cc4d9",
   "metadata": {},
   "outputs": [],
   "source": [
    "var = pd.DataFrame(var, columns = ['Variance %'])\n",
    "var.index +=1\n",
    "plt.plot(var)\n",
    "plt.xlabel(\"No. of Features\") \n",
    "plt.ylabel(\"Variance Percentage\") \n",
    "plt.title(\"Variance Captured vs. Number of features\") \n",
    "plt.savefig('../results/2var.jpg')\n",
    "plt.show()"
   ]
  },
  {
   "cell_type": "code",
   "execution_count": null,
   "id": "8ac80ae6",
   "metadata": {
    "scrolled": true
   },
   "outputs": [],
   "source": [
    "var"
   ]
  },
  {
   "cell_type": "code",
   "execution_count": null,
   "id": "2e69f44c",
   "metadata": {},
   "outputs": [],
   "source": [
    "print(\"no. of features for minimum test error =\", test_mse_arr2.idxmin()[0])\n",
    "print(\"no. of features for minimum train error =\", train_mse_arr2.idxmin()[0])\n",
    "print(\"no. of features for max variance captured =\", var.idxmax()[0])"
   ]
  },
  {
   "cell_type": "code",
   "execution_count": null,
   "id": "496561a9",
   "metadata": {},
   "outputs": [],
   "source": [
    "table2 = pd.concat([train_mse_arr2, test_mse_arr2, var], axis=1, join='inner')\n",
    "table2.to_excel('../results/Results_PCA.xlsx')"
   ]
  }
 ],
 "metadata": {
  "kernelspec": {
   "display_name": "Python 3 (ipykernel)",
   "language": "python",
   "name": "python3"
  },
  "language_info": {
   "codemirror_mode": {
    "name": "ipython",
    "version": 3
   },
   "file_extension": ".py",
   "mimetype": "text/x-python",
   "name": "python",
   "nbconvert_exporter": "python",
   "pygments_lexer": "ipython3",
   "version": "3.8.12"
  }
 },
 "nbformat": 4,
 "nbformat_minor": 5
}
