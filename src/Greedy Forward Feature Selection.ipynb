{
 "cells": [
  {
   "cell_type": "markdown",
   "id": "53728d01",
   "metadata": {},
   "source": [
    "# Greedy Forward Feature Selection"
   ]
  },
  {
   "cell_type": "markdown",
   "id": "587326d0",
   "metadata": {},
   "source": [
    "## Importing Libraries"
   ]
  },
  {
   "cell_type": "code",
   "execution_count": 1,
   "id": "e359c51e",
   "metadata": {},
   "outputs": [],
   "source": [
    "import numpy as np\n",
    "import pandas as pd\n",
    "import random\n",
    "import matplotlib.pyplot as plt\n",
    "\n",
    "%matplotlib inline"
   ]
  },
  {
   "cell_type": "markdown",
   "id": "a9814920",
   "metadata": {},
   "source": [
    "## Data Handling"
   ]
  },
  {
   "cell_type": "code",
   "execution_count": 2,
   "id": "2ed037d6",
   "metadata": {},
   "outputs": [
    {
     "data": {
      "text/html": [
       "<div>\n",
       "<style scoped>\n",
       "    .dataframe tbody tr th:only-of-type {\n",
       "        vertical-align: middle;\n",
       "    }\n",
       "\n",
       "    .dataframe tbody tr th {\n",
       "        vertical-align: top;\n",
       "    }\n",
       "\n",
       "    .dataframe thead th {\n",
       "        text-align: right;\n",
       "    }\n",
       "</style>\n",
       "<table border=\"1\" class=\"dataframe\">\n",
       "  <thead>\n",
       "    <tr style=\"text-align: right;\">\n",
       "      <th></th>\n",
       "      <th>T1</th>\n",
       "      <th>RH_1</th>\n",
       "      <th>T2</th>\n",
       "      <th>RH_2</th>\n",
       "      <th>T3</th>\n",
       "      <th>RH_3</th>\n",
       "      <th>T4</th>\n",
       "      <th>RH_4</th>\n",
       "      <th>T5</th>\n",
       "      <th>RH_5</th>\n",
       "      <th>...</th>\n",
       "      <th>RH_9</th>\n",
       "      <th>T_out</th>\n",
       "      <th>Press_mm_hg</th>\n",
       "      <th>RH_out</th>\n",
       "      <th>Windspeed</th>\n",
       "      <th>Visibility</th>\n",
       "      <th>Tdewpoint</th>\n",
       "      <th>rv1</th>\n",
       "      <th>rv2</th>\n",
       "      <th>Appliances</th>\n",
       "    </tr>\n",
       "  </thead>\n",
       "  <tbody>\n",
       "    <tr>\n",
       "      <th>0</th>\n",
       "      <td>21.20</td>\n",
       "      <td>33.290</td>\n",
       "      <td>19.823333</td>\n",
       "      <td>31.790000</td>\n",
       "      <td>23.463333</td>\n",
       "      <td>38.230000</td>\n",
       "      <td>20.50</td>\n",
       "      <td>31.73</td>\n",
       "      <td>19.200000</td>\n",
       "      <td>39.363333</td>\n",
       "      <td>...</td>\n",
       "      <td>29.230000</td>\n",
       "      <td>9.85</td>\n",
       "      <td>756.183333</td>\n",
       "      <td>41.833333</td>\n",
       "      <td>4.833333</td>\n",
       "      <td>40.0</td>\n",
       "      <td>-2.67</td>\n",
       "      <td>42.017180</td>\n",
       "      <td>42.017180</td>\n",
       "      <td>290</td>\n",
       "    </tr>\n",
       "    <tr>\n",
       "      <th>1</th>\n",
       "      <td>21.79</td>\n",
       "      <td>38.500</td>\n",
       "      <td>19.500000</td>\n",
       "      <td>40.633333</td>\n",
       "      <td>22.500000</td>\n",
       "      <td>37.900000</td>\n",
       "      <td>21.00</td>\n",
       "      <td>37.90</td>\n",
       "      <td>20.033333</td>\n",
       "      <td>47.290000</td>\n",
       "      <td>...</td>\n",
       "      <td>40.326667</td>\n",
       "      <td>6.90</td>\n",
       "      <td>754.000000</td>\n",
       "      <td>75.000000</td>\n",
       "      <td>4.000000</td>\n",
       "      <td>40.0</td>\n",
       "      <td>2.80</td>\n",
       "      <td>24.624380</td>\n",
       "      <td>24.624380</td>\n",
       "      <td>50</td>\n",
       "    </tr>\n",
       "    <tr>\n",
       "      <th>2</th>\n",
       "      <td>22.39</td>\n",
       "      <td>41.390</td>\n",
       "      <td>20.200000</td>\n",
       "      <td>43.790000</td>\n",
       "      <td>24.500000</td>\n",
       "      <td>39.333333</td>\n",
       "      <td>20.10</td>\n",
       "      <td>38.26</td>\n",
       "      <td>19.390000</td>\n",
       "      <td>48.090000</td>\n",
       "      <td>...</td>\n",
       "      <td>42.060000</td>\n",
       "      <td>10.10</td>\n",
       "      <td>756.433333</td>\n",
       "      <td>68.000000</td>\n",
       "      <td>5.833333</td>\n",
       "      <td>40.0</td>\n",
       "      <td>4.45</td>\n",
       "      <td>3.731260</td>\n",
       "      <td>3.731260</td>\n",
       "      <td>260</td>\n",
       "    </tr>\n",
       "    <tr>\n",
       "      <th>3</th>\n",
       "      <td>24.00</td>\n",
       "      <td>30.260</td>\n",
       "      <td>24.390000</td>\n",
       "      <td>26.963333</td>\n",
       "      <td>23.390000</td>\n",
       "      <td>33.400000</td>\n",
       "      <td>22.79</td>\n",
       "      <td>31.20</td>\n",
       "      <td>21.033333</td>\n",
       "      <td>40.626667</td>\n",
       "      <td>...</td>\n",
       "      <td>35.500000</td>\n",
       "      <td>19.10</td>\n",
       "      <td>760.000000</td>\n",
       "      <td>31.000000</td>\n",
       "      <td>4.000000</td>\n",
       "      <td>40.0</td>\n",
       "      <td>1.50</td>\n",
       "      <td>1.058826</td>\n",
       "      <td>1.058826</td>\n",
       "      <td>50</td>\n",
       "    </tr>\n",
       "    <tr>\n",
       "      <th>4</th>\n",
       "      <td>20.05</td>\n",
       "      <td>38.245</td>\n",
       "      <td>17.600000</td>\n",
       "      <td>41.000000</td>\n",
       "      <td>21.100000</td>\n",
       "      <td>37.200000</td>\n",
       "      <td>19.89</td>\n",
       "      <td>36.40</td>\n",
       "      <td>18.200000</td>\n",
       "      <td>43.560000</td>\n",
       "      <td>...</td>\n",
       "      <td>38.863333</td>\n",
       "      <td>0.10</td>\n",
       "      <td>754.600000</td>\n",
       "      <td>99.000000</td>\n",
       "      <td>1.000000</td>\n",
       "      <td>32.0</td>\n",
       "      <td>-0.10</td>\n",
       "      <td>39.248108</td>\n",
       "      <td>39.248108</td>\n",
       "      <td>30</td>\n",
       "    </tr>\n",
       "  </tbody>\n",
       "</table>\n",
       "<p>5 rows × 27 columns</p>\n",
       "</div>"
      ],
      "text/plain": [
       "      T1    RH_1         T2       RH_2         T3       RH_3     T4   RH_4  \\\n",
       "0  21.20  33.290  19.823333  31.790000  23.463333  38.230000  20.50  31.73   \n",
       "1  21.79  38.500  19.500000  40.633333  22.500000  37.900000  21.00  37.90   \n",
       "2  22.39  41.390  20.200000  43.790000  24.500000  39.333333  20.10  38.26   \n",
       "3  24.00  30.260  24.390000  26.963333  23.390000  33.400000  22.79  31.20   \n",
       "4  20.05  38.245  17.600000  41.000000  21.100000  37.200000  19.89  36.40   \n",
       "\n",
       "          T5       RH_5  ...       RH_9  T_out  Press_mm_hg     RH_out  \\\n",
       "0  19.200000  39.363333  ...  29.230000   9.85   756.183333  41.833333   \n",
       "1  20.033333  47.290000  ...  40.326667   6.90   754.000000  75.000000   \n",
       "2  19.390000  48.090000  ...  42.060000  10.10   756.433333  68.000000   \n",
       "3  21.033333  40.626667  ...  35.500000  19.10   760.000000  31.000000   \n",
       "4  18.200000  43.560000  ...  38.863333   0.10   754.600000  99.000000   \n",
       "\n",
       "   Windspeed  Visibility  Tdewpoint        rv1        rv2  Appliances  \n",
       "0   4.833333        40.0      -2.67  42.017180  42.017180         290  \n",
       "1   4.000000        40.0       2.80  24.624380  24.624380          50  \n",
       "2   5.833333        40.0       4.45   3.731260   3.731260         260  \n",
       "3   4.000000        40.0       1.50   1.058826   1.058826          50  \n",
       "4   1.000000        32.0      -0.10  39.248108  39.248108          30  \n",
       "\n",
       "[5 rows x 27 columns]"
      ]
     },
     "execution_count": 2,
     "metadata": {},
     "output_type": "execute_result"
    }
   ],
   "source": [
    "df = pd.read_csv(\"../data/FODS-A2.csv\")\n",
    "df.head()"
   ]
  },
  {
   "cell_type": "markdown",
   "id": "31e791bb",
   "metadata": {},
   "source": [
    "### Shuffling dataset and Train-Test Split"
   ]
  },
  {
   "cell_type": "code",
   "execution_count": 3,
   "id": "5c601b00",
   "metadata": {},
   "outputs": [],
   "source": [
    "# Shuffling the dataset\n",
    "shuffled_df = df.sample(frac=1, random_state=42)\n",
    "\n",
    "# Define a size for your train set\n",
    "training_data_size = int(0.8 * len(df))\n",
    "\n",
    "# Split your dataset\n",
    "training_data = shuffled_df[:training_data_size]\n",
    "testing_data = shuffled_df[training_data_size:]"
   ]
  },
  {
   "cell_type": "code",
   "execution_count": 4,
   "id": "ed4fb191",
   "metadata": {},
   "outputs": [],
   "source": [
    "X_tr = training_data.drop(\"Appliances\", axis=1)\n",
    "X_te = testing_data.drop(\"Appliances\", axis=1)\n",
    "y_tr = training_data[\"Appliances\"]\n",
    "y_te = testing_data[\"Appliances\"]"
   ]
  },
  {
   "cell_type": "code",
   "execution_count": 5,
   "id": "9e4887f8",
   "metadata": {},
   "outputs": [],
   "source": [
    "X_train = training_data.drop(\"Appliances\", axis=1)\n",
    "X_test = testing_data.drop(\"Appliances\", axis=1)\n",
    "y_train = training_data[\"Appliances\"]\n",
    "y_test = testing_data[\"Appliances\"]"
   ]
  },
  {
   "cell_type": "code",
   "execution_count": 6,
   "id": "ddb3f794",
   "metadata": {},
   "outputs": [],
   "source": [
    "X_train = X_train.to_numpy().reshape(X_train.shape[1], X_train.shape[0])\n",
    "X_test = X_test.to_numpy().reshape(X_test.shape[1], X_test.shape[0])\n",
    "y_train = y_train.to_numpy().reshape(1, -1)\n",
    "y_test = y_test.to_numpy().reshape(1, -1)"
   ]
  },
  {
   "cell_type": "markdown",
   "id": "5ba722c3",
   "metadata": {},
   "source": [
    "## Gradient Descent"
   ]
  },
  {
   "cell_type": "code",
   "execution_count": 7,
   "id": "05d56048",
   "metadata": {},
   "outputs": [],
   "source": [
    "def pol_feat(mat, deg):\n",
    "    if deg == 1:\n",
    "        mat = mat.to_numpy()\n",
    "        m, n = mat.shape\n",
    "\n",
    "        return mat.reshape(n, m), n"
   ]
  },
  {
   "cell_type": "code",
   "execution_count": 8,
   "id": "b96687e9",
   "metadata": {},
   "outputs": [],
   "source": [
    "def get_cost(y, t):\n",
    "    return 0.5 * np.sum(np.power((t - y), 2)) / y.shape[1]"
   ]
  },
  {
   "cell_type": "code",
   "execution_count": 9,
   "id": "cc3d7cc4",
   "metadata": {},
   "outputs": [],
   "source": [
    "def gradient_descent(num_epochs, X, t, theta, bias, lr):\n",
    "    # forward-prop\n",
    "    costs = []\n",
    "    for iter in range(num_epochs):\n",
    "        y = np.dot(theta, X) + bias\n",
    "\n",
    "        loss = get_cost(y, t)\n",
    "        # print(loss)\n",
    "        costs.append(loss)\n",
    "\n",
    "        # backprop\n",
    "        der = (1 / y.shape[1]) * np.dot(y - t, X.T)\n",
    "\n",
    "        dBias = (1 / y.shape[1]) * np.sum((y - t))\n",
    "\n",
    "        # updation\n",
    "        # theta = theta - (learning_rate/y.shape[1]) * np.sum(X * ((predicted(X,theta)) - y), axis=0)\n",
    "        theta = theta - lr * der\n",
    "        bias = bias - lr * dBias\n",
    "\n",
    "    return costs, theta, bias"
   ]
  },
  {
   "cell_type": "code",
   "execution_count": 10,
   "id": "f9260790",
   "metadata": {},
   "outputs": [],
   "source": [
    "def fwd_prop_test(X, theta, bias):\n",
    "    y = np.dot(theta, X) + bias\n",
    "    loss = get_cost(y, y_test)\n",
    "    return loss"
   ]
  },
  {
   "cell_type": "code",
   "execution_count": 11,
   "id": "c4bf9433",
   "metadata": {},
   "outputs": [],
   "source": [
    "def initialize(dim):\n",
    "    np.random.seed(42)\n",
    "    b = random.random()\n",
    "    theta = np.random.rand(1, dim)  # * 0.01\n",
    "    return b, theta"
   ]
  },
  {
   "cell_type": "code",
   "execution_count": 12,
   "id": "62465081",
   "metadata": {},
   "outputs": [],
   "source": [
    "final_trainerror_BGD = []\n",
    "final_testerror_BGD = []\n",
    "biasarr_bgd = [0] * 10\n",
    "weightsarr_bgd = [0] * 10\n",
    "ctr_bgd = 0\n",
    "ctr_sgd = 0"
   ]
  },
  {
   "cell_type": "code",
   "execution_count": 13,
   "id": "1d139420",
   "metadata": {},
   "outputs": [],
   "source": [
    "cols = X_tr.columns\n",
    "features = []"
   ]
  },
  {
   "cell_type": "markdown",
   "id": "5a999b31",
   "metadata": {},
   "source": [
    "## Feature Selection"
   ]
  },
  {
   "cell_type": "markdown",
   "id": "9fba2b0d",
   "metadata": {},
   "source": [
    "### Choosing first feature"
   ]
  },
  {
   "cell_type": "code",
   "execution_count": 14,
   "id": "cb9205b4",
   "metadata": {},
   "outputs": [
    {
     "data": {
      "text/plain": [
       "(0.1493466926354199, array([[0.37454012, 0.95071431]]))"
      ]
     },
     "execution_count": 14,
     "metadata": {},
     "output_type": "execute_result"
    }
   ],
   "source": [
    "initialize(2)"
   ]
  },
  {
   "cell_type": "code",
   "execution_count": 15,
   "id": "6e353bee",
   "metadata": {},
   "outputs": [],
   "source": [
    "train_1_feat = []\n",
    "weight_1_feat = []\n",
    "bias_1_feat = []\n",
    "test_1_feat = []\n",
    "\n",
    "test_global = []\n",
    "train_global = []\n",
    "weights_global = []\n",
    "bias_global = []"
   ]
  },
  {
   "cell_type": "markdown",
   "id": "8cceb408",
   "metadata": {},
   "source": [
    "### Greedy Forward Algorithm"
   ]
  },
  {
   "cell_type": "code",
   "execution_count": 16,
   "id": "a6113a64",
   "metadata": {},
   "outputs": [],
   "source": [
    "def greedy_forward():\n",
    "    if len(features) == 0:\n",
    "        train_local = []\n",
    "        test_local = []\n",
    "        weight_local = []\n",
    "        bias_local = []\n",
    "        f_final = []\n",
    "        for col in X_tr.drop(features, axis=1):\n",
    "            f = []\n",
    "            f = features + [col]\n",
    "            data, num_features = pol_feat(X_tr[f], 1)\n",
    "            test_data, num_test_features = pol_feat(X_te[f], 1)\n",
    "            mean = np.mean(data, axis=1, keepdims=True)\n",
    "            stddev = np.std(data, axis=1, keepdims=True)\n",
    "            data = (data - mean) / stddev\n",
    "            test_data = (test_data - mean) / stddev\n",
    "            bias, weights = initialize(num_features)\n",
    "            BGD_MSE_train, weights, bias = gradient_descent(\n",
    "                1000, data, y_train, weights, bias, 0.00001\n",
    "            )\n",
    "            BGD_MSE_test = fwd_prop_test(test_data, weights, bias)\n",
    "            train_local.append(BGD_MSE_train[-1])\n",
    "            test_local.append(BGD_MSE_test)\n",
    "            weight_local.append(weights)\n",
    "            bias_local.append(bias)\n",
    "            f_final.append(f)\n",
    "\n",
    "    else:\n",
    "        train_local = []\n",
    "        test_local = []\n",
    "        weight_local = []\n",
    "        bias_local = []\n",
    "        f_final = []\n",
    "        for col in X_tr.drop(features[-1], axis=1):\n",
    "            f = []\n",
    "\n",
    "            f = features[-1] + [col]\n",
    "            data, num_features = pol_feat(X_tr[f], 1)\n",
    "            test_data, num_test_features = pol_feat(X_te[f], 1)\n",
    "            mean = np.mean(data, axis=1, keepdims=True)\n",
    "            stddev = np.std(data, axis=1, keepdims=True)\n",
    "            # Normalising\n",
    "            data = (data - mean) / stddev\n",
    "            test_data = (test_data - mean) / stddev\n",
    "            bias, weights = initialize(num_features)\n",
    "            BGD_MSE_train, weights, bias = gradient_descent(\n",
    "                1000, data, y_train, weights, bias, 0.00001\n",
    "            )\n",
    "            BGD_MSE_test = fwd_prop_test(test_data, weights, bias)\n",
    "            train_local.append(BGD_MSE_train[-1])\n",
    "            test_local.append(BGD_MSE_test)\n",
    "            weight_local.append(weights)\n",
    "            bias_local.append(bias)\n",
    "            f_final.append(f)\n",
    "    return f_final, bias_local, weight_local, test_local, train_local"
   ]
  },
  {
   "cell_type": "markdown",
   "id": "e5ff46e1",
   "metadata": {},
   "source": [
    "### Implemenation"
   ]
  },
  {
   "cell_type": "code",
   "execution_count": 17,
   "id": "34fb751a",
   "metadata": {},
   "outputs": [],
   "source": [
    "for i in range(1, 27):\n",
    "    f_i = []\n",
    "    bias_i = []\n",
    "    weight_i = []\n",
    "    test_i = []\n",
    "    train_i = []\n",
    "    f_i, bias_i, weight_i, test_i, train_i = greedy_forward()\n",
    "    weights_global.append(weight_i[test_i.index(min(test_i))])\n",
    "    bias_global.append(bias_i[test_i.index(min(test_i))])\n",
    "    test_global.append(test_i[test_i.index(min(test_i))])\n",
    "    features.append(f_i[test_i.index(min(test_i))])\n",
    "    train_global.append(train_i[test_i.index(min(test_i))])"
   ]
  },
  {
   "cell_type": "markdown",
   "id": "a67c1056",
   "metadata": {},
   "source": [
    "### Results"
   ]
  },
  {
   "cell_type": "code",
   "execution_count": 18,
   "id": "247b11b3",
   "metadata": {
    "scrolled": true
   },
   "outputs": [
    {
     "data": {
      "text/plain": [
       "3"
      ]
     },
     "execution_count": 18,
     "metadata": {},
     "output_type": "execute_result"
    }
   ],
   "source": [
    "test_global.index(min(test_global[0:]))"
   ]
  },
  {
   "cell_type": "code",
   "execution_count": 19,
   "id": "0789ae05",
   "metadata": {},
   "outputs": [
    {
     "data": {
      "text/plain": [
       "['T6', 'T_out', 'RH_5', 'T9']"
      ]
     },
     "execution_count": 19,
     "metadata": {},
     "output_type": "execute_result"
    }
   ],
   "source": [
    "features[test_global.index(min(test_global[0:]))]"
   ]
  },
  {
   "cell_type": "code",
   "execution_count": 20,
   "id": "c7984aeb",
   "metadata": {},
   "outputs": [
    {
     "data": {
      "image/png": "[encoded data removed]",
      "text/plain": [
       "<Figure size 432x288 with 1 Axes>"
      ]
     },
     "metadata": {
      "needs_background": "light"
     },
     "output_type": "display_data"
    }
   ],
   "source": [
    "plt.plot(train_global)\n",
    "plt.plot(train_global.index(min(train_global[0:])), min(train_global[0:]), \"ro\")\n",
    "plt.title(\"Train Errors vs. Number of Components (1000 epochs)\")\n",
    "plt.xlabel(\"Number of Features\")\n",
    "plt.ylabel(\"Train Error\")\n",
    "plt.savefig(\"../results/Train_Errors_Plot_forward.jpg\")\n",
    "plt.show()"
   ]
  },
  {
   "cell_type": "code",
   "execution_count": 21,
   "id": "41120338",
   "metadata": {
    "scrolled": true
   },
   "outputs": [
    {
     "data": {
      "image/png": "[encoded data removed]",
      "text/plain": [
       "<Figure size 432x288 with 1 Axes>"
      ]
     },
     "metadata": {
      "needs_background": "light"
     },
     "output_type": "display_data"
    }
   ],
   "source": [
    "plt.plot(test_global)\n",
    "plt.plot(test_global.index(min(test_global[0:])), min(test_global[0:]), \"ro\")\n",
    "plt.title(\"Test Errors vs. Number of Components (1000 epochs)\")\n",
    "plt.xlabel(\"Number of Features\")\n",
    "plt.ylabel(\"Test Error\")\n",
    "plt.savefig(\"../results/Test_Errors_Plot_forward.jpg\")\n",
    "plt.show()"
   ]
  },
  {
   "cell_type": "code",
   "execution_count": 22,
   "id": "9d085232",
   "metadata": {},
   "outputs": [
    {
     "data": {
      "text/html": [
       "<div>\n",
       "<style scoped>\n",
       "    .dataframe tbody tr th:only-of-type {\n",
       "        vertical-align: middle;\n",
       "    }\n",
       "\n",
       "    .dataframe tbody tr th {\n",
       "        vertical-align: top;\n",
       "    }\n",
       "\n",
       "    .dataframe thead th {\n",
       "        text-align: right;\n",
       "    }\n",
       "</style>\n",
       "<table border=\"1\" class=\"dataframe\">\n",
       "  <thead>\n",
       "    <tr style=\"text-align: right;\">\n",
       "      <th></th>\n",
       "      <th>Number of Components</th>\n",
       "      <th>Train Error</th>\n",
       "      <th>Test Error</th>\n",
       "    </tr>\n",
       "  </thead>\n",
       "  <tbody>\n",
       "    <tr>\n",
       "      <th>0</th>\n",
       "      <td>1</td>\n",
       "      <td>9836.812624</td>\n",
       "      <td>11101.609527</td>\n",
       "    </tr>\n",
       "    <tr>\n",
       "      <th>1</th>\n",
       "      <td>2</td>\n",
       "      <td>9822.680212</td>\n",
       "      <td>11083.287406</td>\n",
       "    </tr>\n",
       "    <tr>\n",
       "      <th>2</th>\n",
       "      <td>3</td>\n",
       "      <td>9822.463216</td>\n",
       "      <td>11085.838435</td>\n",
       "    </tr>\n",
       "    <tr>\n",
       "      <th>3</th>\n",
       "      <td>4</td>\n",
       "      <td>9818.092911</td>\n",
       "      <td>11083.064512</td>\n",
       "    </tr>\n",
       "    <tr>\n",
       "      <th>4</th>\n",
       "      <td>5</td>\n",
       "      <td>9841.582268</td>\n",
       "      <td>11099.412580</td>\n",
       "    </tr>\n",
       "    <tr>\n",
       "      <th>5</th>\n",
       "      <td>6</td>\n",
       "      <td>9823.660308</td>\n",
       "      <td>11088.020294</td>\n",
       "    </tr>\n",
       "    <tr>\n",
       "      <th>6</th>\n",
       "      <td>7</td>\n",
       "      <td>9826.343110</td>\n",
       "      <td>11094.590472</td>\n",
       "    </tr>\n",
       "    <tr>\n",
       "      <th>7</th>\n",
       "      <td>8</td>\n",
       "      <td>9829.802964</td>\n",
       "      <td>11094.396307</td>\n",
       "    </tr>\n",
       "    <tr>\n",
       "      <th>8</th>\n",
       "      <td>9</td>\n",
       "      <td>9822.816058</td>\n",
       "      <td>11087.946281</td>\n",
       "    </tr>\n",
       "    <tr>\n",
       "      <th>9</th>\n",
       "      <td>10</td>\n",
       "      <td>9837.558572</td>\n",
       "      <td>11090.129762</td>\n",
       "    </tr>\n",
       "    <tr>\n",
       "      <th>10</th>\n",
       "      <td>11</td>\n",
       "      <td>9818.308026</td>\n",
       "      <td>11092.361080</td>\n",
       "    </tr>\n",
       "    <tr>\n",
       "      <th>11</th>\n",
       "      <td>12</td>\n",
       "      <td>9832.946232</td>\n",
       "      <td>11093.256227</td>\n",
       "    </tr>\n",
       "    <tr>\n",
       "      <th>12</th>\n",
       "      <td>13</td>\n",
       "      <td>9826.976842</td>\n",
       "      <td>11092.420909</td>\n",
       "    </tr>\n",
       "    <tr>\n",
       "      <th>13</th>\n",
       "      <td>14</td>\n",
       "      <td>9824.791274</td>\n",
       "      <td>11089.151045</td>\n",
       "    </tr>\n",
       "    <tr>\n",
       "      <th>14</th>\n",
       "      <td>15</td>\n",
       "      <td>9848.187697</td>\n",
       "      <td>11090.729852</td>\n",
       "    </tr>\n",
       "    <tr>\n",
       "      <th>15</th>\n",
       "      <td>16</td>\n",
       "      <td>9835.431062</td>\n",
       "      <td>11100.715076</td>\n",
       "    </tr>\n",
       "    <tr>\n",
       "      <th>16</th>\n",
       "      <td>17</td>\n",
       "      <td>9834.111839</td>\n",
       "      <td>11101.655782</td>\n",
       "    </tr>\n",
       "    <tr>\n",
       "      <th>17</th>\n",
       "      <td>18</td>\n",
       "      <td>9826.627479</td>\n",
       "      <td>11090.194331</td>\n",
       "    </tr>\n",
       "    <tr>\n",
       "      <th>18</th>\n",
       "      <td>19</td>\n",
       "      <td>9823.230931</td>\n",
       "      <td>11094.165787</td>\n",
       "    </tr>\n",
       "    <tr>\n",
       "      <th>19</th>\n",
       "      <td>20</td>\n",
       "      <td>9838.822802</td>\n",
       "      <td>11088.268218</td>\n",
       "    </tr>\n",
       "    <tr>\n",
       "      <th>20</th>\n",
       "      <td>21</td>\n",
       "      <td>9831.476866</td>\n",
       "      <td>11096.690782</td>\n",
       "    </tr>\n",
       "    <tr>\n",
       "      <th>21</th>\n",
       "      <td>22</td>\n",
       "      <td>9822.891930</td>\n",
       "      <td>11095.556979</td>\n",
       "    </tr>\n",
       "    <tr>\n",
       "      <th>22</th>\n",
       "      <td>23</td>\n",
       "      <td>9830.141308</td>\n",
       "      <td>11094.271126</td>\n",
       "    </tr>\n",
       "    <tr>\n",
       "      <th>23</th>\n",
       "      <td>24</td>\n",
       "      <td>9836.520981</td>\n",
       "      <td>11099.978157</td>\n",
       "    </tr>\n",
       "    <tr>\n",
       "      <th>24</th>\n",
       "      <td>25</td>\n",
       "      <td>9839.950913</td>\n",
       "      <td>11084.582977</td>\n",
       "    </tr>\n",
       "    <tr>\n",
       "      <th>25</th>\n",
       "      <td>26</td>\n",
       "      <td>9888.155849</td>\n",
       "      <td>11154.406288</td>\n",
       "    </tr>\n",
       "  </tbody>\n",
       "</table>\n",
       "</div>"
      ],
      "text/plain": [
       "    Number of Components  Train Error    Test Error\n",
       "0                      1  9836.812624  11101.609527\n",
       "1                      2  9822.680212  11083.287406\n",
       "2                      3  9822.463216  11085.838435\n",
       "3                      4  9818.092911  11083.064512\n",
       "4                      5  9841.582268  11099.412580\n",
       "5                      6  9823.660308  11088.020294\n",
       "6                      7  9826.343110  11094.590472\n",
       "7                      8  9829.802964  11094.396307\n",
       "8                      9  9822.816058  11087.946281\n",
       "9                     10  9837.558572  11090.129762\n",
       "10                    11  9818.308026  11092.361080\n",
       "11                    12  9832.946232  11093.256227\n",
       "12                    13  9826.976842  11092.420909\n",
       "13                    14  9824.791274  11089.151045\n",
       "14                    15  9848.187697  11090.729852\n",
       "15                    16  9835.431062  11100.715076\n",
       "16                    17  9834.111839  11101.655782\n",
       "17                    18  9826.627479  11090.194331\n",
       "18                    19  9823.230931  11094.165787\n",
       "19                    20  9838.822802  11088.268218\n",
       "20                    21  9831.476866  11096.690782\n",
       "21                    22  9822.891930  11095.556979\n",
       "22                    23  9830.141308  11094.271126\n",
       "23                    24  9836.520981  11099.978157\n",
       "24                    25  9839.950913  11084.582977\n",
       "25                    26  9888.155849  11154.406288"
      ]
     },
     "execution_count": 22,
     "metadata": {},
     "output_type": "execute_result"
    }
   ],
   "source": [
    "results = pd.DataFrame(columns=(\"Number of Components\", \"Train Error\", \"Test Error\"))\n",
    "results[\"Number of Components\"] = [i for i in range(1, 27)]\n",
    "results[\"Train Error\"] = train_global\n",
    "results[\"Test Error\"] = test_global\n",
    "results.set_index(\"Number of Components\")\n",
    "results.to_excel(\"../results/Results_forward.xlsx\")\n",
    "results"
   ]
  }
 ],
 "metadata": {
  "kernelspec": {
   "display_name": "Python 3 (ipykernel)",
   "language": "python",
   "name": "python3"
  },
  "language_info": {
   "codemirror_mode": {
    "name": "ipython",
    "version": 3
   },
   "file_extension": ".py",
   "mimetype": "text/x-python",
   "name": "python",
   "nbconvert_exporter": "python",
   "pygments_lexer": "ipython3",
   "version": "3.8.12"
  }
 },
 "nbformat": 4,
 "nbformat_minor": 5
}
