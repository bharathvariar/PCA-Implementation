{
 "cells": [
  {
   "cell_type": "markdown",
   "id": "53728d01",
   "metadata": {},
   "source": [
    "# Greedy Backward Feature Selection"
   ]
  },
  {
   "cell_type": "markdown",
   "id": "587326d0",
   "metadata": {},
   "source": [
    "## Importing Libraries"
   ]
  },
  {
   "cell_type": "code",
   "execution_count": 1,
   "id": "f17606e3",
   "metadata": {},
   "outputs": [],
   "source": [
    "import numpy as np\n",
    "import pandas as pd\n",
    "import random\n",
    "import matplotlib.pyplot as plt\n",
    "\n",
    "%matplotlib inline"
   ]
  },
  {
   "cell_type": "markdown",
   "id": "a9814920",
   "metadata": {},
   "source": [
    "## Data Handling"
   ]
  },
  {
   "cell_type": "code",
   "execution_count": 2,
   "id": "bf2b00a1",
   "metadata": {},
   "outputs": [
    {
     "data": {
      "text/html": [
       "<div>\n",
       "<style scoped>\n",
       "    .dataframe tbody tr th:only-of-type {\n",
       "        vertical-align: middle;\n",
       "    }\n",
       "\n",
       "    .dataframe tbody tr th {\n",
       "        vertical-align: top;\n",
       "    }\n",
       "\n",
       "    .dataframe thead th {\n",
       "        text-align: right;\n",
       "    }\n",
       "</style>\n",
       "<table border=\"1\" class=\"dataframe\">\n",
       "  <thead>\n",
       "    <tr style=\"text-align: right;\">\n",
       "      <th></th>\n",
       "      <th>T1</th>\n",
       "      <th>RH_1</th>\n",
       "      <th>T2</th>\n",
       "      <th>RH_2</th>\n",
       "      <th>T3</th>\n",
       "      <th>RH_3</th>\n",
       "      <th>T4</th>\n",
       "      <th>RH_4</th>\n",
       "      <th>T5</th>\n",
       "      <th>RH_5</th>\n",
       "      <th>...</th>\n",
       "      <th>RH_9</th>\n",
       "      <th>T_out</th>\n",
       "      <th>Press_mm_hg</th>\n",
       "      <th>RH_out</th>\n",
       "      <th>Windspeed</th>\n",
       "      <th>Visibility</th>\n",
       "      <th>Tdewpoint</th>\n",
       "      <th>rv1</th>\n",
       "      <th>rv2</th>\n",
       "      <th>Appliances</th>\n",
       "    </tr>\n",
       "  </thead>\n",
       "  <tbody>\n",
       "    <tr>\n",
       "      <th>0</th>\n",
       "      <td>21.20</td>\n",
       "      <td>33.290</td>\n",
       "      <td>19.823333</td>\n",
       "      <td>31.790000</td>\n",
       "      <td>23.463333</td>\n",
       "      <td>38.230000</td>\n",
       "      <td>20.50</td>\n",
       "      <td>31.73</td>\n",
       "      <td>19.200000</td>\n",
       "      <td>39.363333</td>\n",
       "      <td>...</td>\n",
       "      <td>29.230000</td>\n",
       "      <td>9.85</td>\n",
       "      <td>756.183333</td>\n",
       "      <td>41.833333</td>\n",
       "      <td>4.833333</td>\n",
       "      <td>40.0</td>\n",
       "      <td>-2.67</td>\n",
       "      <td>42.017180</td>\n",
       "      <td>42.017180</td>\n",
       "      <td>290</td>\n",
       "    </tr>\n",
       "    <tr>\n",
       "      <th>1</th>\n",
       "      <td>21.79</td>\n",
       "      <td>38.500</td>\n",
       "      <td>19.500000</td>\n",
       "      <td>40.633333</td>\n",
       "      <td>22.500000</td>\n",
       "      <td>37.900000</td>\n",
       "      <td>21.00</td>\n",
       "      <td>37.90</td>\n",
       "      <td>20.033333</td>\n",
       "      <td>47.290000</td>\n",
       "      <td>...</td>\n",
       "      <td>40.326667</td>\n",
       "      <td>6.90</td>\n",
       "      <td>754.000000</td>\n",
       "      <td>75.000000</td>\n",
       "      <td>4.000000</td>\n",
       "      <td>40.0</td>\n",
       "      <td>2.80</td>\n",
       "      <td>24.624380</td>\n",
       "      <td>24.624380</td>\n",
       "      <td>50</td>\n",
       "    </tr>\n",
       "    <tr>\n",
       "      <th>2</th>\n",
       "      <td>22.39</td>\n",
       "      <td>41.390</td>\n",
       "      <td>20.200000</td>\n",
       "      <td>43.790000</td>\n",
       "      <td>24.500000</td>\n",
       "      <td>39.333333</td>\n",
       "      <td>20.10</td>\n",
       "      <td>38.26</td>\n",
       "      <td>19.390000</td>\n",
       "      <td>48.090000</td>\n",
       "      <td>...</td>\n",
       "      <td>42.060000</td>\n",
       "      <td>10.10</td>\n",
       "      <td>756.433333</td>\n",
       "      <td>68.000000</td>\n",
       "      <td>5.833333</td>\n",
       "      <td>40.0</td>\n",
       "      <td>4.45</td>\n",
       "      <td>3.731260</td>\n",
       "      <td>3.731260</td>\n",
       "      <td>260</td>\n",
       "    </tr>\n",
       "    <tr>\n",
       "      <th>3</th>\n",
       "      <td>24.00</td>\n",
       "      <td>30.260</td>\n",
       "      <td>24.390000</td>\n",
       "      <td>26.963333</td>\n",
       "      <td>23.390000</td>\n",
       "      <td>33.400000</td>\n",
       "      <td>22.79</td>\n",
       "      <td>31.20</td>\n",
       "      <td>21.033333</td>\n",
       "      <td>40.626667</td>\n",
       "      <td>...</td>\n",
       "      <td>35.500000</td>\n",
       "      <td>19.10</td>\n",
       "      <td>760.000000</td>\n",
       "      <td>31.000000</td>\n",
       "      <td>4.000000</td>\n",
       "      <td>40.0</td>\n",
       "      <td>1.50</td>\n",
       "      <td>1.058826</td>\n",
       "      <td>1.058826</td>\n",
       "      <td>50</td>\n",
       "    </tr>\n",
       "    <tr>\n",
       "      <th>4</th>\n",
       "      <td>20.05</td>\n",
       "      <td>38.245</td>\n",
       "      <td>17.600000</td>\n",
       "      <td>41.000000</td>\n",
       "      <td>21.100000</td>\n",
       "      <td>37.200000</td>\n",
       "      <td>19.89</td>\n",
       "      <td>36.40</td>\n",
       "      <td>18.200000</td>\n",
       "      <td>43.560000</td>\n",
       "      <td>...</td>\n",
       "      <td>38.863333</td>\n",
       "      <td>0.10</td>\n",
       "      <td>754.600000</td>\n",
       "      <td>99.000000</td>\n",
       "      <td>1.000000</td>\n",
       "      <td>32.0</td>\n",
       "      <td>-0.10</td>\n",
       "      <td>39.248108</td>\n",
       "      <td>39.248108</td>\n",
       "      <td>30</td>\n",
       "    </tr>\n",
       "  </tbody>\n",
       "</table>\n",
       "<p>5 rows × 27 columns</p>\n",
       "</div>"
      ],
      "text/plain": [
       "      T1    RH_1         T2       RH_2         T3       RH_3     T4   RH_4  \\\n",
       "0  21.20  33.290  19.823333  31.790000  23.463333  38.230000  20.50  31.73   \n",
       "1  21.79  38.500  19.500000  40.633333  22.500000  37.900000  21.00  37.90   \n",
       "2  22.39  41.390  20.200000  43.790000  24.500000  39.333333  20.10  38.26   \n",
       "3  24.00  30.260  24.390000  26.963333  23.390000  33.400000  22.79  31.20   \n",
       "4  20.05  38.245  17.600000  41.000000  21.100000  37.200000  19.89  36.40   \n",
       "\n",
       "          T5       RH_5  ...       RH_9  T_out  Press_mm_hg     RH_out  \\\n",
       "0  19.200000  39.363333  ...  29.230000   9.85   756.183333  41.833333   \n",
       "1  20.033333  47.290000  ...  40.326667   6.90   754.000000  75.000000   \n",
       "2  19.390000  48.090000  ...  42.060000  10.10   756.433333  68.000000   \n",
       "3  21.033333  40.626667  ...  35.500000  19.10   760.000000  31.000000   \n",
       "4  18.200000  43.560000  ...  38.863333   0.10   754.600000  99.000000   \n",
       "\n",
       "   Windspeed  Visibility  Tdewpoint        rv1        rv2  Appliances  \n",
       "0   4.833333        40.0      -2.67  42.017180  42.017180         290  \n",
       "1   4.000000        40.0       2.80  24.624380  24.624380          50  \n",
       "2   5.833333        40.0       4.45   3.731260   3.731260         260  \n",
       "3   4.000000        40.0       1.50   1.058826   1.058826          50  \n",
       "4   1.000000        32.0      -0.10  39.248108  39.248108          30  \n",
       "\n",
       "[5 rows x 27 columns]"
      ]
     },
     "execution_count": 2,
     "metadata": {},
     "output_type": "execute_result"
    }
   ],
   "source": [
    "df = pd.read_csv(\"../data/FODS-A2.csv\")\n",
    "df.head()"
   ]
  },
  {
   "cell_type": "markdown",
   "id": "b49c79be",
   "metadata": {},
   "source": [
    "### Shuffling dataset and Train-Test Split"
   ]
  },
  {
   "cell_type": "code",
   "execution_count": 3,
   "id": "30cadd15",
   "metadata": {
    "scrolled": true
   },
   "outputs": [],
   "source": [
    "## Data Handling# Shuffling the dataset\n",
    "shuffled_df = df.sample(frac=1, random_state=100)\n",
    "\n",
    "# Define a size for your train set\n",
    "training_data_size = int(0.8 * len(df))\n",
    "\n",
    "# Split your dataset\n",
    "training_data = shuffled_df[:training_data_size]\n",
    "testing_data = shuffled_df[training_data_size:]"
   ]
  },
  {
   "cell_type": "code",
   "execution_count": 4,
   "id": "f7fcde84",
   "metadata": {
    "scrolled": true
   },
   "outputs": [],
   "source": [
    "X_train = training_data.drop(\"Appliances\", axis=1)\n",
    "X_test = testing_data.drop(\"Appliances\", axis=1)\n",
    "y_train = training_data[\"Appliances\"]\n",
    "y_test = testing_data[\"Appliances\"]"
   ]
  },
  {
   "cell_type": "code",
   "execution_count": 5,
   "id": "0e9546bf",
   "metadata": {},
   "outputs": [],
   "source": [
    "X_train = X_train.to_numpy().reshape(X_train.shape[1], X_train.shape[0])\n",
    "X_test = X_test.to_numpy().reshape(X_test.shape[1], X_test.shape[0])\n",
    "y_train = y_train.to_numpy().reshape(1, -1)\n",
    "y_test = y_test.to_numpy().reshape(1, -1)"
   ]
  },
  {
   "cell_type": "code",
   "execution_count": 6,
   "id": "8a8764c0",
   "metadata": {},
   "outputs": [],
   "source": [
    "X_tr = training_data.drop(\"Appliances\", axis=1)\n",
    "X_te = testing_data.drop(\"Appliances\", axis=1)\n",
    "y_tr = training_data[\"Appliances\"]\n",
    "y_te = testing_data[\"Appliances\"]"
   ]
  },
  {
   "cell_type": "markdown",
   "id": "5ba722c3",
   "metadata": {},
   "source": [
    "## Gradient Descent"
   ]
  },
  {
   "cell_type": "code",
   "execution_count": 7,
   "id": "2af5ee6c",
   "metadata": {},
   "outputs": [],
   "source": [
    "def pol_feat(mat, deg):\n",
    "    if deg == 1:\n",
    "        mat = mat.to_numpy()\n",
    "        m, n = mat.shape\n",
    "        return mat.reshape(n, m), n"
   ]
  },
  {
   "cell_type": "code",
   "execution_count": 8,
   "id": "4c0f4a10",
   "metadata": {},
   "outputs": [],
   "source": [
    "def get_cost(y, t):\n",
    "    return 0.5 * np.sum(np.power((t - y), 2)) / y.shape[1]"
   ]
  },
  {
   "cell_type": "code",
   "execution_count": 9,
   "id": "c178172b",
   "metadata": {},
   "outputs": [],
   "source": [
    "def gradient_descent(num_epochs, X, t, theta, bias, lr):\n",
    "    # forward-prop\n",
    "    costs = []\n",
    "    for iter in range(num_epochs):\n",
    "        y = np.dot(theta, X) + bias\n",
    "\n",
    "        loss = get_cost(y, t)\n",
    "        # print(loss)\n",
    "        costs.append(loss)\n",
    "\n",
    "        # backprop\n",
    "        der = (1 / y.shape[1]) * np.dot(y - t, X.T)\n",
    "\n",
    "        dBias = (1 / y.shape[1]) * np.sum((y - t))\n",
    "\n",
    "        # updation\n",
    "        # theta = theta - (learning_rate/y.shape[1]) * np.sum(X * ((predicted(X,theta)) - y), axis=0)\n",
    "        theta = theta - lr * der\n",
    "        bias = bias - lr * dBias\n",
    "\n",
    "    return costs, theta, bias"
   ]
  },
  {
   "cell_type": "code",
   "execution_count": 10,
   "id": "17893946",
   "metadata": {},
   "outputs": [],
   "source": [
    "def fwd_prop_test(X, theta, bias):\n",
    "    y = np.dot(theta, X) + bias\n",
    "    loss = get_cost(y, y_test)\n",
    "    return loss"
   ]
  },
  {
   "cell_type": "code",
   "execution_count": 11,
   "id": "fb1c0661",
   "metadata": {},
   "outputs": [],
   "source": [
    "def initialize(dim):\n",
    "    np.random.seed(42)\n",
    "    b = random.random()\n",
    "    theta = np.random.rand(1, dim) * 0.01\n",
    "    return b, theta"
   ]
  },
  {
   "cell_type": "code",
   "execution_count": 12,
   "id": "3a0a0713",
   "metadata": {},
   "outputs": [],
   "source": [
    "final_trainerror_BGD = []\n",
    "final_testerror_BGD = []\n",
    "biasarr_bgd = [0] * 10\n",
    "weightsarr_bgd = [0] * 10\n",
    "ctr_bgd = 0\n",
    "ctr_sgd = 0"
   ]
  },
  {
   "cell_type": "code",
   "execution_count": 13,
   "id": "1c8a3de8",
   "metadata": {},
   "outputs": [],
   "source": [
    "features = []\n",
    "columns = list(X_tr.columns)\n",
    "features.append(columns)\n",
    "\n",
    "train_global = []\n",
    "test_global = []\n",
    "weights_global = []\n",
    "bias_global = []"
   ]
  },
  {
   "cell_type": "markdown",
   "id": "5659f28b",
   "metadata": {},
   "source": [
    "## Feature Selection"
   ]
  },
  {
   "cell_type": "code",
   "execution_count": 14,
   "id": "d07ade2e",
   "metadata": {},
   "outputs": [],
   "source": [
    "def greedy_backward():\n",
    "    train_local = []\n",
    "    test_local = []\n",
    "    weight_local = []\n",
    "    bias_local = []\n",
    "    f_final = []\n",
    "    if len(weights_global) == 0:\n",
    "        data, num_features = pol_feat(X_tr, 1)\n",
    "        test_data, num_test_features = pol_feat(X_te, 1)\n",
    "        mean = np.mean(data, axis=1, keepdims=True)\n",
    "        stddev = np.std(data, axis=1, keepdims=True)\n",
    "        data = (data - mean) / stddev\n",
    "        test_data = (test_data - mean) / stddev\n",
    "        bias, weights = initialize(num_features)\n",
    "        BGD_MSE_train, weights, bias = gradient_descent(\n",
    "            1000, data, y_train, weights, bias, 0.00001\n",
    "        )\n",
    "        BGD_MSE_test = fwd_prop_test(test_data, weights, bias)\n",
    "        train_local.append(BGD_MSE_train[-1])\n",
    "        test_local.append(BGD_MSE_test)\n",
    "        weight_local.append(weights)\n",
    "        bias_local.append(bias)\n",
    "        f_final.append(X_tr.columns)\n",
    "\n",
    "    else:\n",
    "\n",
    "        for col in features[-1]:\n",
    "            data, num_features = pol_feat(X_tr[features[-1]].drop(col, axis=1), 1)\n",
    "            test_data, num_test_features = pol_feat(\n",
    "                X_te[features[-1]].drop(col, axis=1), 1\n",
    "            )\n",
    "            mean = np.mean(data, axis=1, keepdims=True)\n",
    "            stddev = np.std(data, axis=1, keepdims=True)\n",
    "            data = (data - mean) / stddev\n",
    "            test_data = (test_data - mean) / stddev\n",
    "            bias, weights = initialize(num_features)\n",
    "            BGD_MSE_train, weights, bias = gradient_descent(\n",
    "                1000, data, y_train, weights, bias, 0.00001\n",
    "            )\n",
    "            BGD_MSE_test = fwd_prop_test(test_data, weights, bias)\n",
    "            train_local.append(BGD_MSE_train[-1])\n",
    "            test_local.append(BGD_MSE_test)\n",
    "            weight_local.append(weights)\n",
    "            bias_local.append(bias)\n",
    "\n",
    "            f_final.append((X_tr[features[-1]].drop(col, axis=1).columns))\n",
    "\n",
    "    return f_final, train_local, test_local, weight_local, bias_local"
   ]
  },
  {
   "cell_type": "markdown",
   "id": "7bdba2f3",
   "metadata": {},
   "source": [
    "### Implementation"
   ]
  },
  {
   "cell_type": "code",
   "execution_count": 15,
   "id": "bc7ad39c",
   "metadata": {},
   "outputs": [],
   "source": [
    "f_26, train_26, test_26, weight_26, bias_26 = greedy_backward()"
   ]
  },
  {
   "cell_type": "code",
   "execution_count": 16,
   "id": "8365e193",
   "metadata": {},
   "outputs": [],
   "source": [
    "train_global.append(train_26[0])\n",
    "test_global.append(test_26[0])\n",
    "weights_global.append(weight_26[0])\n",
    "bias_global.append(bias_26[0])"
   ]
  },
  {
   "cell_type": "code",
   "execution_count": 17,
   "id": "5fd8f875",
   "metadata": {},
   "outputs": [],
   "source": [
    "for i in range(1, 26):\n",
    "    f_i = []\n",
    "    bias_i = []\n",
    "    weight_i = []\n",
    "    test_i = []\n",
    "    train_i = []\n",
    "    f_i, train_i, test_i, weight_i, bias_i = greedy_backward()\n",
    "    weights_global.append(weight_i[test_i.index(min(test_i))])\n",
    "    bias_global.append(bias_i[test_i.index(min(test_i))])\n",
    "    test_global.append(test_i[test_i.index(min(test_i))])\n",
    "    features.append(f_i[test_i.index(min(test_i))])\n",
    "    train_global.append(train_i[test_i.index(min(test_i))])"
   ]
  },
  {
   "cell_type": "markdown",
   "id": "e9a7f552",
   "metadata": {},
   "source": [
    "### Results"
   ]
  },
  {
   "cell_type": "code",
   "execution_count": 18,
   "id": "80f4a593",
   "metadata": {
    "scrolled": true
   },
   "outputs": [
    {
     "data": {
      "text/plain": [
       "3"
      ]
     },
     "execution_count": 18,
     "metadata": {},
     "output_type": "execute_result"
    }
   ],
   "source": [
    "test_global.index(min(test_global))"
   ]
  },
  {
   "cell_type": "code",
   "execution_count": 19,
   "id": "dac18b27",
   "metadata": {},
   "outputs": [
    {
     "data": {
      "text/plain": [
       "Index(['T1', 'RH_1', 'T2', 'RH_2', 'T3', 'T4', 'RH_4', 'T5', 'RH_5', 'T6',\n",
       "       'T7', 'RH_7', 'T8', 'RH_8', 'T9', 'RH_9', 'T_out', 'Press_mm_hg',\n",
       "       'RH_out', 'Windspeed', 'Tdewpoint', 'rv1', 'rv2'],\n",
       "      dtype='object')"
      ]
     },
     "execution_count": 19,
     "metadata": {},
     "output_type": "execute_result"
    }
   ],
   "source": [
    "features[test_global.index(min(test_global))]"
   ]
  },
  {
   "cell_type": "code",
   "execution_count": 21,
   "id": "f4c0eafd",
   "metadata": {},
   "outputs": [
    {
     "name": "stdout",
     "output_type": "stream",
     "text": [
      "Regression with all 26 features has: \n",
      "Training error = 10008.805096158274\n",
      "Testing error = 10773.083714839828\n"
     ]
    }
   ],
   "source": [
    "print(\n",
    "    f\"Regression with all 26 features has: \\nTraining error = {train_global[0]}\\nTesting error = {test_global[0]}\"\n",
    ")"
   ]
  },
  {
   "cell_type": "code",
   "execution_count": 25,
   "id": "daf409f6",
   "metadata": {},
   "outputs": [
    {
     "data": {
      "image/png": "[encoded data removed]",
      "text/plain": [
       "<Figure size 432x288 with 1 Axes>"
      ]
     },
     "metadata": {
      "needs_background": "light"
     },
     "output_type": "display_data"
    }
   ],
   "source": [
    "plt.plot(train_global)\n",
    "plt.plot(25 - train_global.index(min(train_global[0:])), min(train_global[0:]), \"ro\")\n",
    "plt.title(\"Train Errors vs. Number of Components (1000 epochs)\")\n",
    "plt.xlabel(\"Number of Features\")\n",
    "plt.ylabel(\"Train Error\")\n",
    "plt.savefig(\"../results/Train_Errors_Plot_backward.jpg\")\n",
    "plt.show()"
   ]
  },
  {
   "cell_type": "code",
   "execution_count": 26,
   "id": "48149603",
   "metadata": {},
   "outputs": [
    {
     "data": {
      "image/png": "[encoded data removed]",
      "text/plain": [
       "<Figure size 432x288 with 1 Axes>"
      ]
     },
     "metadata": {
      "needs_background": "light"
     },
     "output_type": "display_data"
    }
   ],
   "source": [
    "plt.plot(test_global)\n",
    "plt.plot(25 - test_global.index(min(test_global[0:])), min(test_global[0:]), \"ro\")\n",
    "plt.title(\"Test Errors vs. Number of Components (1000 epochs)\")\n",
    "plt.xlabel(\"Number of Features\")\n",
    "plt.ylabel(\"Test Error\")\n",
    "plt.savefig(\"../results/Test_Errors_Plot_backward.jpg\")\n",
    "plt.show()"
   ]
  },
  {
   "cell_type": "code",
   "execution_count": 24,
   "id": "1b158729",
   "metadata": {},
   "outputs": [
    {
     "data": {
      "text/html": [
       "<div>\n",
       "<style scoped>\n",
       "    .dataframe tbody tr th:only-of-type {\n",
       "        vertical-align: middle;\n",
       "    }\n",
       "\n",
       "    .dataframe tbody tr th {\n",
       "        vertical-align: top;\n",
       "    }\n",
       "\n",
       "    .dataframe thead th {\n",
       "        text-align: right;\n",
       "    }\n",
       "</style>\n",
       "<table border=\"1\" class=\"dataframe\">\n",
       "  <thead>\n",
       "    <tr style=\"text-align: right;\">\n",
       "      <th></th>\n",
       "      <th>Number of Components</th>\n",
       "      <th>Train Error</th>\n",
       "      <th>Test Error</th>\n",
       "    </tr>\n",
       "  </thead>\n",
       "  <tbody>\n",
       "    <tr>\n",
       "      <th>0</th>\n",
       "      <td>26</td>\n",
       "      <td>10008.805096</td>\n",
       "      <td>10773.083715</td>\n",
       "    </tr>\n",
       "    <tr>\n",
       "      <th>1</th>\n",
       "      <td>25</td>\n",
       "      <td>9920.418818</td>\n",
       "      <td>10681.667527</td>\n",
       "    </tr>\n",
       "    <tr>\n",
       "      <th>2</th>\n",
       "      <td>24</td>\n",
       "      <td>9923.155755</td>\n",
       "      <td>10683.986858</td>\n",
       "    </tr>\n",
       "    <tr>\n",
       "      <th>3</th>\n",
       "      <td>23</td>\n",
       "      <td>9919.971240</td>\n",
       "      <td>10680.663231</td>\n",
       "    </tr>\n",
       "    <tr>\n",
       "      <th>4</th>\n",
       "      <td>22</td>\n",
       "      <td>9923.099314</td>\n",
       "      <td>10683.932885</td>\n",
       "    </tr>\n",
       "    <tr>\n",
       "      <th>5</th>\n",
       "      <td>21</td>\n",
       "      <td>9925.893619</td>\n",
       "      <td>10686.547351</td>\n",
       "    </tr>\n",
       "    <tr>\n",
       "      <th>6</th>\n",
       "      <td>20</td>\n",
       "      <td>9922.244078</td>\n",
       "      <td>10682.944834</td>\n",
       "    </tr>\n",
       "    <tr>\n",
       "      <th>7</th>\n",
       "      <td>19</td>\n",
       "      <td>9927.315794</td>\n",
       "      <td>10688.031011</td>\n",
       "    </tr>\n",
       "    <tr>\n",
       "      <th>8</th>\n",
       "      <td>18</td>\n",
       "      <td>9921.593948</td>\n",
       "      <td>10682.487795</td>\n",
       "    </tr>\n",
       "    <tr>\n",
       "      <th>9</th>\n",
       "      <td>17</td>\n",
       "      <td>9921.316239</td>\n",
       "      <td>10682.032718</td>\n",
       "    </tr>\n",
       "    <tr>\n",
       "      <th>10</th>\n",
       "      <td>16</td>\n",
       "      <td>9929.444116</td>\n",
       "      <td>10690.138325</td>\n",
       "    </tr>\n",
       "    <tr>\n",
       "      <th>11</th>\n",
       "      <td>15</td>\n",
       "      <td>9922.726667</td>\n",
       "      <td>10683.122100</td>\n",
       "    </tr>\n",
       "    <tr>\n",
       "      <th>12</th>\n",
       "      <td>14</td>\n",
       "      <td>9927.129546</td>\n",
       "      <td>10687.986088</td>\n",
       "    </tr>\n",
       "    <tr>\n",
       "      <th>13</th>\n",
       "      <td>13</td>\n",
       "      <td>9925.679159</td>\n",
       "      <td>10686.660952</td>\n",
       "    </tr>\n",
       "    <tr>\n",
       "      <th>14</th>\n",
       "      <td>12</td>\n",
       "      <td>9933.775312</td>\n",
       "      <td>10694.760030</td>\n",
       "    </tr>\n",
       "    <tr>\n",
       "      <th>15</th>\n",
       "      <td>11</td>\n",
       "      <td>9935.844712</td>\n",
       "      <td>10696.772879</td>\n",
       "    </tr>\n",
       "    <tr>\n",
       "      <th>16</th>\n",
       "      <td>10</td>\n",
       "      <td>9924.304200</td>\n",
       "      <td>10684.944900</td>\n",
       "    </tr>\n",
       "    <tr>\n",
       "      <th>17</th>\n",
       "      <td>9</td>\n",
       "      <td>9921.646489</td>\n",
       "      <td>10683.004526</td>\n",
       "    </tr>\n",
       "    <tr>\n",
       "      <th>18</th>\n",
       "      <td>8</td>\n",
       "      <td>9922.914415</td>\n",
       "      <td>10683.390565</td>\n",
       "    </tr>\n",
       "    <tr>\n",
       "      <th>19</th>\n",
       "      <td>7</td>\n",
       "      <td>9922.722756</td>\n",
       "      <td>10683.355387</td>\n",
       "    </tr>\n",
       "    <tr>\n",
       "      <th>20</th>\n",
       "      <td>6</td>\n",
       "      <td>9929.503283</td>\n",
       "      <td>10690.341898</td>\n",
       "    </tr>\n",
       "    <tr>\n",
       "      <th>21</th>\n",
       "      <td>5</td>\n",
       "      <td>9926.249322</td>\n",
       "      <td>10686.901975</td>\n",
       "    </tr>\n",
       "    <tr>\n",
       "      <th>22</th>\n",
       "      <td>4</td>\n",
       "      <td>9920.906366</td>\n",
       "      <td>10681.227432</td>\n",
       "    </tr>\n",
       "    <tr>\n",
       "      <th>23</th>\n",
       "      <td>3</td>\n",
       "      <td>9939.385521</td>\n",
       "      <td>10700.616884</td>\n",
       "    </tr>\n",
       "    <tr>\n",
       "      <th>24</th>\n",
       "      <td>2</td>\n",
       "      <td>9922.118886</td>\n",
       "      <td>10682.584229</td>\n",
       "    </tr>\n",
       "    <tr>\n",
       "      <th>25</th>\n",
       "      <td>1</td>\n",
       "      <td>9947.024130</td>\n",
       "      <td>10708.428886</td>\n",
       "    </tr>\n",
       "  </tbody>\n",
       "</table>\n",
       "</div>"
      ],
      "text/plain": [
       "    Number of Components   Train Error    Test Error\n",
       "0                     26  10008.805096  10773.083715\n",
       "1                     25   9920.418818  10681.667527\n",
       "2                     24   9923.155755  10683.986858\n",
       "3                     23   9919.971240  10680.663231\n",
       "4                     22   9923.099314  10683.932885\n",
       "5                     21   9925.893619  10686.547351\n",
       "6                     20   9922.244078  10682.944834\n",
       "7                     19   9927.315794  10688.031011\n",
       "8                     18   9921.593948  10682.487795\n",
       "9                     17   9921.316239  10682.032718\n",
       "10                    16   9929.444116  10690.138325\n",
       "11                    15   9922.726667  10683.122100\n",
       "12                    14   9927.129546  10687.986088\n",
       "13                    13   9925.679159  10686.660952\n",
       "14                    12   9933.775312  10694.760030\n",
       "15                    11   9935.844712  10696.772879\n",
       "16                    10   9924.304200  10684.944900\n",
       "17                     9   9921.646489  10683.004526\n",
       "18                     8   9922.914415  10683.390565\n",
       "19                     7   9922.722756  10683.355387\n",
       "20                     6   9929.503283  10690.341898\n",
       "21                     5   9926.249322  10686.901975\n",
       "22                     4   9920.906366  10681.227432\n",
       "23                     3   9939.385521  10700.616884\n",
       "24                     2   9922.118886  10682.584229\n",
       "25                     1   9947.024130  10708.428886"
      ]
     },
     "execution_count": 24,
     "metadata": {},
     "output_type": "execute_result"
    }
   ],
   "source": [
    "results = pd.DataFrame(columns=(\"Number of Components\", \"Train Error\", \"Test Error\"))\n",
    "results[\"Number of Components\"] = [i for i in range(26, 0, -1)]\n",
    "results[\"Train Error\"] = train_global\n",
    "results[\"Test Error\"] = test_global\n",
    "results.set_index(\"Number of Components\")\n",
    "results.to_excel(\"../results/Results_backward.xlsx\")\n",
    "results"
   ]
  }
 ],
 "metadata": {
  "kernelspec": {
   "display_name": "Python 3 (ipykernel)",
   "language": "python",
   "name": "python3"
  },
  "language_info": {
   "codemirror_mode": {
    "name": "ipython",
    "version": 3
   },
   "file_extension": ".py",
   "mimetype": "text/x-python",
   "name": "python",
   "nbconvert_exporter": "python",
   "pygments_lexer": "ipython3",
   "version": "3.8.12"
  }
 },
 "nbformat": 4,
 "nbformat_minor": 5
}
